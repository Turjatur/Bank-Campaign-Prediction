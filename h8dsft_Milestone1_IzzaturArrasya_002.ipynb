{
 "cells": [
  {
   "cell_type": "markdown",
   "source": [
    "# Milestone 1\r\n",
    "---"
   ],
   "metadata": {}
  },
  {
   "cell_type": "markdown",
   "source": [
    "## Introduction\r\n",
    "\r\n",
    "Name  : Izzatur Arrasya 002<br>\r\n",
    "\r\n",
    "## Dataset Introduction\r\n",
    "<b>Bank Marketing Data Set</b> <br>\r\n",
    "\r\n",
    "The data is related with direct marketing campaigns of a Portuguese banking institution. The marketing campaigns were based on phone calls. Often, more than one contact to the same client was required, in order to access if the product (bank term deposit) would be ('yes') or not ('no') subscribed.\r\n",
    "\r\n",
    "There are four datasets:\r\n",
    "1. bank-additional-full.csv with all examples (41188) and 20 inputs, ordered by date (from May 2008 to November 2010), very close to the data analyzed in [Moro et al., 2014]\r\n",
    "2. bank-additional.csv with 10% of the examples (4119), randomly selected from 1), and 20 inputs.\r\n",
    "3. bank-full.csv with all examples and 17 inputs, ordered by date (older version of this dataset with less inputs).\r\n",
    "4. bank.csv with 10% of the examples and 17 inputs, randomly selected from 3 (older version of this dataset with less inputs).\r\n",
    "The smallest datasets are provided to test more computationally demanding machine learning algorithms (e.g., SVM).\r\n",
    "\r\n",
    "The classification goal is to predict if the client will subscribe (yes/no) a term deposit (variable y).\r\n",
    "\r\n",
    "## Objective\r\n",
    "\r\n",
    "In this notebook of Milestone 1 was created to evaluate concept as follows:\r\n",
    "\r\n",
    "1. Able to understand the concept of supervised learning\r\n",
    "2. Able to prepare data for use in supervised learning model\r\n",
    "3. Able to implement supervised learning to make predictions\r\n",
    "4. Able to evaluated the model\r\n",
    "5. Able to tuning the model\r\n",
    "\r\n",
    "and I will try to predicted subscribed a term deposit based on the features or variables available in this dataset"
   ],
   "metadata": {}
  },
  {
   "cell_type": "markdown",
   "source": [
    "## Import Library\r\n",
    "---"
   ],
   "metadata": {}
  },
  {
   "cell_type": "code",
   "execution_count": 1,
   "source": [
    "import warnings\r\n",
    "warnings.filterwarnings('ignore')\r\n",
    "\r\n",
    "import time\r\n",
    "import numpy as np \r\n",
    "import pandas as pd \r\n",
    "import seaborn as sns\r\n",
    "import sklearn\r\n",
    "\r\n",
    "import matplotlib.pyplot as plt\r\n",
    "import plotly.express as px\r\n",
    "from plotly.subplots import make_subplots\r\n",
    "import plotly.graph_objects as go\r\n",
    "import plotly.figure_factory as ff\r\n",
    "\r\n",
    "from sklearn.model_selection import train_test_split\r\n",
    "from sklearn.model_selection import cross_val_score\r\n",
    "from sklearn.model_selection import StratifiedKFold\r\n",
    "from sklearn.preprocessing import StandardScaler\r\n",
    "from sklearn.preprocessing import MinMaxScaler\r\n",
    "from sklearn.base import BaseEstimator, TransformerMixin\r\n",
    "from sklearn.pipeline import Pipeline\r\n",
    "from sklearn.compose import ColumnTransformer\r\n",
    "\r\n",
    "from sklearn.metrics import accuracy_score\r\n",
    "from sklearn.metrics import roc_auc_score\r\n",
    "from sklearn.metrics import roc_curve\r\n",
    "from sklearn.metrics import precision_recall_curve \r\n",
    "from sklearn.metrics import auc \r\n",
    "from sklearn.metrics import f1_score\r\n",
    "from sklearn.metrics import confusion_matrix \r\n",
    "from sklearn.metrics import classification_report\r\n",
    "from sklearn.preprocessing import StandardScaler\r\n",
    "from sklearn.model_selection import train_test_split\r\n",
    "from sklearn.pipeline import make_pipeline\r\n",
    "from sklearn.model_selection import cross_val_score\r\n",
    "from sklearn.model_selection import GridSearchCV\r\n",
    "\r\n",
    "from sklearn.linear_model import LogisticRegression\r\n",
    "from sklearn.neighbors import KNeighborsClassifier\r\n",
    "from sklearn.tree import DecisionTreeClassifier\r\n",
    "from sklearn.svm import SVC\r\n",
    "from sklearn.ensemble import RandomForestClassifier\r\n",
    "from sklearn.naive_bayes import GaussianNB\r\n",
    "from xgboost import XGBClassifier\r\n"
   ],
   "outputs": [],
   "metadata": {}
  },
  {
   "cell_type": "markdown",
   "source": [
    "## Data Loading\r\n",
    "---"
   ],
   "metadata": {}
  },
  {
   "cell_type": "code",
   "execution_count": 2,
   "source": [
    "#load data using pandas\r\n",
    "df = pd.read_csv(\"bank-additional-full.csv\", sep=';')\r\n",
    "df.head()"
   ],
   "outputs": [
    {
     "output_type": "execute_result",
     "data": {
      "text/html": [
       "<div>\n",
       "<style scoped>\n",
       "    .dataframe tbody tr th:only-of-type {\n",
       "        vertical-align: middle;\n",
       "    }\n",
       "\n",
       "    .dataframe tbody tr th {\n",
       "        vertical-align: top;\n",
       "    }\n",
       "\n",
       "    .dataframe thead th {\n",
       "        text-align: right;\n",
       "    }\n",
       "</style>\n",
       "<table border=\"1\" class=\"dataframe\">\n",
       "  <thead>\n",
       "    <tr style=\"text-align: right;\">\n",
       "      <th></th>\n",
       "      <th>age</th>\n",
       "      <th>job</th>\n",
       "      <th>marital</th>\n",
       "      <th>education</th>\n",
       "      <th>default</th>\n",
       "      <th>housing</th>\n",
       "      <th>loan</th>\n",
       "      <th>contact</th>\n",
       "      <th>month</th>\n",
       "      <th>day_of_week</th>\n",
       "      <th>...</th>\n",
       "      <th>campaign</th>\n",
       "      <th>pdays</th>\n",
       "      <th>previous</th>\n",
       "      <th>poutcome</th>\n",
       "      <th>emp.var.rate</th>\n",
       "      <th>cons.price.idx</th>\n",
       "      <th>cons.conf.idx</th>\n",
       "      <th>euribor3m</th>\n",
       "      <th>nr.employed</th>\n",
       "      <th>y</th>\n",
       "    </tr>\n",
       "  </thead>\n",
       "  <tbody>\n",
       "    <tr>\n",
       "      <th>0</th>\n",
       "      <td>56</td>\n",
       "      <td>housemaid</td>\n",
       "      <td>married</td>\n",
       "      <td>basic.4y</td>\n",
       "      <td>no</td>\n",
       "      <td>no</td>\n",
       "      <td>no</td>\n",
       "      <td>telephone</td>\n",
       "      <td>may</td>\n",
       "      <td>mon</td>\n",
       "      <td>...</td>\n",
       "      <td>1</td>\n",
       "      <td>999</td>\n",
       "      <td>0</td>\n",
       "      <td>nonexistent</td>\n",
       "      <td>1.1</td>\n",
       "      <td>93.994</td>\n",
       "      <td>-36.4</td>\n",
       "      <td>4.857</td>\n",
       "      <td>5191.0</td>\n",
       "      <td>no</td>\n",
       "    </tr>\n",
       "    <tr>\n",
       "      <th>1</th>\n",
       "      <td>57</td>\n",
       "      <td>services</td>\n",
       "      <td>married</td>\n",
       "      <td>high.school</td>\n",
       "      <td>unknown</td>\n",
       "      <td>no</td>\n",
       "      <td>no</td>\n",
       "      <td>telephone</td>\n",
       "      <td>may</td>\n",
       "      <td>mon</td>\n",
       "      <td>...</td>\n",
       "      <td>1</td>\n",
       "      <td>999</td>\n",
       "      <td>0</td>\n",
       "      <td>nonexistent</td>\n",
       "      <td>1.1</td>\n",
       "      <td>93.994</td>\n",
       "      <td>-36.4</td>\n",
       "      <td>4.857</td>\n",
       "      <td>5191.0</td>\n",
       "      <td>no</td>\n",
       "    </tr>\n",
       "    <tr>\n",
       "      <th>2</th>\n",
       "      <td>37</td>\n",
       "      <td>services</td>\n",
       "      <td>married</td>\n",
       "      <td>high.school</td>\n",
       "      <td>no</td>\n",
       "      <td>yes</td>\n",
       "      <td>no</td>\n",
       "      <td>telephone</td>\n",
       "      <td>may</td>\n",
       "      <td>mon</td>\n",
       "      <td>...</td>\n",
       "      <td>1</td>\n",
       "      <td>999</td>\n",
       "      <td>0</td>\n",
       "      <td>nonexistent</td>\n",
       "      <td>1.1</td>\n",
       "      <td>93.994</td>\n",
       "      <td>-36.4</td>\n",
       "      <td>4.857</td>\n",
       "      <td>5191.0</td>\n",
       "      <td>no</td>\n",
       "    </tr>\n",
       "    <tr>\n",
       "      <th>3</th>\n",
       "      <td>40</td>\n",
       "      <td>admin.</td>\n",
       "      <td>married</td>\n",
       "      <td>basic.6y</td>\n",
       "      <td>no</td>\n",
       "      <td>no</td>\n",
       "      <td>no</td>\n",
       "      <td>telephone</td>\n",
       "      <td>may</td>\n",
       "      <td>mon</td>\n",
       "      <td>...</td>\n",
       "      <td>1</td>\n",
       "      <td>999</td>\n",
       "      <td>0</td>\n",
       "      <td>nonexistent</td>\n",
       "      <td>1.1</td>\n",
       "      <td>93.994</td>\n",
       "      <td>-36.4</td>\n",
       "      <td>4.857</td>\n",
       "      <td>5191.0</td>\n",
       "      <td>no</td>\n",
       "    </tr>\n",
       "    <tr>\n",
       "      <th>4</th>\n",
       "      <td>56</td>\n",
       "      <td>services</td>\n",
       "      <td>married</td>\n",
       "      <td>high.school</td>\n",
       "      <td>no</td>\n",
       "      <td>no</td>\n",
       "      <td>yes</td>\n",
       "      <td>telephone</td>\n",
       "      <td>may</td>\n",
       "      <td>mon</td>\n",
       "      <td>...</td>\n",
       "      <td>1</td>\n",
       "      <td>999</td>\n",
       "      <td>0</td>\n",
       "      <td>nonexistent</td>\n",
       "      <td>1.1</td>\n",
       "      <td>93.994</td>\n",
       "      <td>-36.4</td>\n",
       "      <td>4.857</td>\n",
       "      <td>5191.0</td>\n",
       "      <td>no</td>\n",
       "    </tr>\n",
       "  </tbody>\n",
       "</table>\n",
       "<p>5 rows × 21 columns</p>\n",
       "</div>"
      ],
      "text/plain": [
       "   age        job  marital    education  default housing loan    contact  \\\n",
       "0   56  housemaid  married     basic.4y       no      no   no  telephone   \n",
       "1   57   services  married  high.school  unknown      no   no  telephone   \n",
       "2   37   services  married  high.school       no     yes   no  telephone   \n",
       "3   40     admin.  married     basic.6y       no      no   no  telephone   \n",
       "4   56   services  married  high.school       no      no  yes  telephone   \n",
       "\n",
       "  month day_of_week  ...  campaign  pdays  previous     poutcome emp.var.rate  \\\n",
       "0   may         mon  ...         1    999         0  nonexistent          1.1   \n",
       "1   may         mon  ...         1    999         0  nonexistent          1.1   \n",
       "2   may         mon  ...         1    999         0  nonexistent          1.1   \n",
       "3   may         mon  ...         1    999         0  nonexistent          1.1   \n",
       "4   may         mon  ...         1    999         0  nonexistent          1.1   \n",
       "\n",
       "   cons.price.idx  cons.conf.idx  euribor3m  nr.employed   y  \n",
       "0          93.994          -36.4      4.857       5191.0  no  \n",
       "1          93.994          -36.4      4.857       5191.0  no  \n",
       "2          93.994          -36.4      4.857       5191.0  no  \n",
       "3          93.994          -36.4      4.857       5191.0  no  \n",
       "4          93.994          -36.4      4.857       5191.0  no  \n",
       "\n",
       "[5 rows x 21 columns]"
      ]
     },
     "metadata": {},
     "execution_count": 2
    }
   ],
   "metadata": {}
  },
  {
   "cell_type": "code",
   "execution_count": 3,
   "source": [
    "df.info()"
   ],
   "outputs": [
    {
     "output_type": "stream",
     "name": "stdout",
     "text": [
      "<class 'pandas.core.frame.DataFrame'>\n",
      "RangeIndex: 41188 entries, 0 to 41187\n",
      "Data columns (total 21 columns):\n",
      " #   Column          Non-Null Count  Dtype  \n",
      "---  ------          --------------  -----  \n",
      " 0   age             41188 non-null  int64  \n",
      " 1   job             41188 non-null  object \n",
      " 2   marital         41188 non-null  object \n",
      " 3   education       41188 non-null  object \n",
      " 4   default         41188 non-null  object \n",
      " 5   housing         41188 non-null  object \n",
      " 6   loan            41188 non-null  object \n",
      " 7   contact         41188 non-null  object \n",
      " 8   month           41188 non-null  object \n",
      " 9   day_of_week     41188 non-null  object \n",
      " 10  duration        41188 non-null  int64  \n",
      " 11  campaign        41188 non-null  int64  \n",
      " 12  pdays           41188 non-null  int64  \n",
      " 13  previous        41188 non-null  int64  \n",
      " 14  poutcome        41188 non-null  object \n",
      " 15  emp.var.rate    41188 non-null  float64\n",
      " 16  cons.price.idx  41188 non-null  float64\n",
      " 17  cons.conf.idx   41188 non-null  float64\n",
      " 18  euribor3m       41188 non-null  float64\n",
      " 19  nr.employed     41188 non-null  float64\n",
      " 20  y               41188 non-null  object \n",
      "dtypes: float64(5), int64(5), object(11)\n",
      "memory usage: 6.6+ MB\n"
     ]
    }
   ],
   "metadata": {}
  },
  {
   "cell_type": "code",
   "execution_count": 4,
   "source": [
    "df.columns"
   ],
   "outputs": [
    {
     "output_type": "execute_result",
     "data": {
      "text/plain": [
       "Index(['age', 'job', 'marital', 'education', 'default', 'housing', 'loan',\n",
       "       'contact', 'month', 'day_of_week', 'duration', 'campaign', 'pdays',\n",
       "       'previous', 'poutcome', 'emp.var.rate', 'cons.price.idx',\n",
       "       'cons.conf.idx', 'euribor3m', 'nr.employed', 'y'],\n",
       "      dtype='object')"
      ]
     },
     "metadata": {},
     "execution_count": 4
    }
   ],
   "metadata": {}
  },
  {
   "cell_type": "markdown",
   "source": [
    "From the data above, we get some of information of every column in data frame :\r\n",
    "\r\n",
    "1. Column 'age' : Age \r\n",
    "2. Column 'job' : type of job\r\n",
    "3. Column 'marital' : marital status \r\n",
    "4. Column 'education' : education status\r\n",
    "5. Column 'default' : has credit in default?\r\n",
    "6. Column 'housing' : has housing loan?\r\n",
    "7. Column 'loan' : has personal loan?\r\n",
    "8. Column 'contact' : contact communication type\r\n",
    "9. Column 'month' :last contact month of year\r\n",
    "10. Column 'day_of_week' : last contact day of the week\r\n",
    "11. Column 'duration' : last contact duration, in seconds\r\n",
    "12. Column 'campaign' : number of contacts performed during this campaign and for this client\r\n",
    "13. Column 'pdays' : number of days that passed by after the client was last contacted from a previous campaign\r\n",
    "14. Column 'previous' : number of contacts performed before this campaign and for this client\r\n",
    "15. Column 'poutcome': outcome of the previous marketing campaign\r\n",
    "16. Column 'emp.var.rate' : employment variation rate - quarterly indicator\r\n",
    "17. Column 'cons.price.idx' : consumer price index - monthly indicator\r\n",
    "18. Column 'cons.conf.idx' : consumer confidence index - monthly indicator\r\n",
    "19. Column 'euribor3m' : euribor 3 month rate - daily indicator\r\n",
    "20. Column 'nr.employed' : number of employees - quarterly indicator"
   ],
   "metadata": {}
  },
  {
   "cell_type": "code",
   "execution_count": 5,
   "source": [
    "df.describe()"
   ],
   "outputs": [
    {
     "output_type": "execute_result",
     "data": {
      "text/html": [
       "<div>\n",
       "<style scoped>\n",
       "    .dataframe tbody tr th:only-of-type {\n",
       "        vertical-align: middle;\n",
       "    }\n",
       "\n",
       "    .dataframe tbody tr th {\n",
       "        vertical-align: top;\n",
       "    }\n",
       "\n",
       "    .dataframe thead th {\n",
       "        text-align: right;\n",
       "    }\n",
       "</style>\n",
       "<table border=\"1\" class=\"dataframe\">\n",
       "  <thead>\n",
       "    <tr style=\"text-align: right;\">\n",
       "      <th></th>\n",
       "      <th>age</th>\n",
       "      <th>duration</th>\n",
       "      <th>campaign</th>\n",
       "      <th>pdays</th>\n",
       "      <th>previous</th>\n",
       "      <th>emp.var.rate</th>\n",
       "      <th>cons.price.idx</th>\n",
       "      <th>cons.conf.idx</th>\n",
       "      <th>euribor3m</th>\n",
       "      <th>nr.employed</th>\n",
       "    </tr>\n",
       "  </thead>\n",
       "  <tbody>\n",
       "    <tr>\n",
       "      <th>count</th>\n",
       "      <td>41188.00000</td>\n",
       "      <td>41188.000000</td>\n",
       "      <td>41188.000000</td>\n",
       "      <td>41188.000000</td>\n",
       "      <td>41188.000000</td>\n",
       "      <td>41188.000000</td>\n",
       "      <td>41188.000000</td>\n",
       "      <td>41188.000000</td>\n",
       "      <td>41188.000000</td>\n",
       "      <td>41188.000000</td>\n",
       "    </tr>\n",
       "    <tr>\n",
       "      <th>mean</th>\n",
       "      <td>40.02406</td>\n",
       "      <td>258.285010</td>\n",
       "      <td>2.567593</td>\n",
       "      <td>962.475454</td>\n",
       "      <td>0.172963</td>\n",
       "      <td>0.081886</td>\n",
       "      <td>93.575664</td>\n",
       "      <td>-40.502600</td>\n",
       "      <td>3.621291</td>\n",
       "      <td>5167.035911</td>\n",
       "    </tr>\n",
       "    <tr>\n",
       "      <th>std</th>\n",
       "      <td>10.42125</td>\n",
       "      <td>259.279249</td>\n",
       "      <td>2.770014</td>\n",
       "      <td>186.910907</td>\n",
       "      <td>0.494901</td>\n",
       "      <td>1.570960</td>\n",
       "      <td>0.578840</td>\n",
       "      <td>4.628198</td>\n",
       "      <td>1.734447</td>\n",
       "      <td>72.251528</td>\n",
       "    </tr>\n",
       "    <tr>\n",
       "      <th>min</th>\n",
       "      <td>17.00000</td>\n",
       "      <td>0.000000</td>\n",
       "      <td>1.000000</td>\n",
       "      <td>0.000000</td>\n",
       "      <td>0.000000</td>\n",
       "      <td>-3.400000</td>\n",
       "      <td>92.201000</td>\n",
       "      <td>-50.800000</td>\n",
       "      <td>0.634000</td>\n",
       "      <td>4963.600000</td>\n",
       "    </tr>\n",
       "    <tr>\n",
       "      <th>25%</th>\n",
       "      <td>32.00000</td>\n",
       "      <td>102.000000</td>\n",
       "      <td>1.000000</td>\n",
       "      <td>999.000000</td>\n",
       "      <td>0.000000</td>\n",
       "      <td>-1.800000</td>\n",
       "      <td>93.075000</td>\n",
       "      <td>-42.700000</td>\n",
       "      <td>1.344000</td>\n",
       "      <td>5099.100000</td>\n",
       "    </tr>\n",
       "    <tr>\n",
       "      <th>50%</th>\n",
       "      <td>38.00000</td>\n",
       "      <td>180.000000</td>\n",
       "      <td>2.000000</td>\n",
       "      <td>999.000000</td>\n",
       "      <td>0.000000</td>\n",
       "      <td>1.100000</td>\n",
       "      <td>93.749000</td>\n",
       "      <td>-41.800000</td>\n",
       "      <td>4.857000</td>\n",
       "      <td>5191.000000</td>\n",
       "    </tr>\n",
       "    <tr>\n",
       "      <th>75%</th>\n",
       "      <td>47.00000</td>\n",
       "      <td>319.000000</td>\n",
       "      <td>3.000000</td>\n",
       "      <td>999.000000</td>\n",
       "      <td>0.000000</td>\n",
       "      <td>1.400000</td>\n",
       "      <td>93.994000</td>\n",
       "      <td>-36.400000</td>\n",
       "      <td>4.961000</td>\n",
       "      <td>5228.100000</td>\n",
       "    </tr>\n",
       "    <tr>\n",
       "      <th>max</th>\n",
       "      <td>98.00000</td>\n",
       "      <td>4918.000000</td>\n",
       "      <td>56.000000</td>\n",
       "      <td>999.000000</td>\n",
       "      <td>7.000000</td>\n",
       "      <td>1.400000</td>\n",
       "      <td>94.767000</td>\n",
       "      <td>-26.900000</td>\n",
       "      <td>5.045000</td>\n",
       "      <td>5228.100000</td>\n",
       "    </tr>\n",
       "  </tbody>\n",
       "</table>\n",
       "</div>"
      ],
      "text/plain": [
       "               age      duration      campaign         pdays      previous  \\\n",
       "count  41188.00000  41188.000000  41188.000000  41188.000000  41188.000000   \n",
       "mean      40.02406    258.285010      2.567593    962.475454      0.172963   \n",
       "std       10.42125    259.279249      2.770014    186.910907      0.494901   \n",
       "min       17.00000      0.000000      1.000000      0.000000      0.000000   \n",
       "25%       32.00000    102.000000      1.000000    999.000000      0.000000   \n",
       "50%       38.00000    180.000000      2.000000    999.000000      0.000000   \n",
       "75%       47.00000    319.000000      3.000000    999.000000      0.000000   \n",
       "max       98.00000   4918.000000     56.000000    999.000000      7.000000   \n",
       "\n",
       "       emp.var.rate  cons.price.idx  cons.conf.idx     euribor3m   nr.employed  \n",
       "count  41188.000000    41188.000000   41188.000000  41188.000000  41188.000000  \n",
       "mean       0.081886       93.575664     -40.502600      3.621291   5167.035911  \n",
       "std        1.570960        0.578840       4.628198      1.734447     72.251528  \n",
       "min       -3.400000       92.201000     -50.800000      0.634000   4963.600000  \n",
       "25%       -1.800000       93.075000     -42.700000      1.344000   5099.100000  \n",
       "50%        1.100000       93.749000     -41.800000      4.857000   5191.000000  \n",
       "75%        1.400000       93.994000     -36.400000      4.961000   5228.100000  \n",
       "max        1.400000       94.767000     -26.900000      5.045000   5228.100000  "
      ]
     },
     "metadata": {},
     "execution_count": 5
    }
   ],
   "metadata": {}
  },
  {
   "cell_type": "code",
   "execution_count": 6,
   "source": [
    "df.shape"
   ],
   "outputs": [
    {
     "output_type": "execute_result",
     "data": {
      "text/plain": [
       "(41188, 21)"
      ]
     },
     "metadata": {},
     "execution_count": 6
    }
   ],
   "metadata": {}
  },
  {
   "cell_type": "markdown",
   "source": [
    "## Data Cleaning\r\n",
    "---"
   ],
   "metadata": {}
  },
  {
   "cell_type": "markdown",
   "source": [
    "copy the dataframe so we have the original version of dataset as a backup if the work got messy"
   ],
   "metadata": {}
  },
  {
   "cell_type": "code",
   "execution_count": 7,
   "source": [
    "#copy dataframe\r\n",
    "df_bm = df.copy()"
   ],
   "outputs": [],
   "metadata": {}
  },
  {
   "cell_type": "code",
   "execution_count": 8,
   "source": [
    "#check any missing value\r\n",
    "df_bm.isnull().sum()"
   ],
   "outputs": [
    {
     "output_type": "execute_result",
     "data": {
      "text/plain": [
       "age               0\n",
       "job               0\n",
       "marital           0\n",
       "education         0\n",
       "default           0\n",
       "housing           0\n",
       "loan              0\n",
       "contact           0\n",
       "month             0\n",
       "day_of_week       0\n",
       "duration          0\n",
       "campaign          0\n",
       "pdays             0\n",
       "previous          0\n",
       "poutcome          0\n",
       "emp.var.rate      0\n",
       "cons.price.idx    0\n",
       "cons.conf.idx     0\n",
       "euribor3m         0\n",
       "nr.employed       0\n",
       "y                 0\n",
       "dtype: int64"
      ]
     },
     "metadata": {},
     "execution_count": 8
    }
   ],
   "metadata": {}
  },
  {
   "cell_type": "code",
   "execution_count": 9,
   "source": [
    "#checking any duplicate row\r\n",
    "df_bm.duplicated().sum()"
   ],
   "outputs": [
    {
     "output_type": "execute_result",
     "data": {
      "text/plain": [
       "12"
      ]
     },
     "metadata": {},
     "execution_count": 9
    }
   ],
   "metadata": {}
  },
  {
   "cell_type": "code",
   "execution_count": 10,
   "source": [
    "#dropping duplicated rows\r\n",
    "df_bm.drop_duplicates(keep=False, inplace=True)"
   ],
   "outputs": [],
   "metadata": {}
  },
  {
   "cell_type": "code",
   "execution_count": 11,
   "source": [
    "#rechecking any duplicate row\r\n",
    "df_bm.info()"
   ],
   "outputs": [
    {
     "output_type": "stream",
     "name": "stdout",
     "text": [
      "<class 'pandas.core.frame.DataFrame'>\n",
      "Int64Index: 41164 entries, 0 to 41187\n",
      "Data columns (total 21 columns):\n",
      " #   Column          Non-Null Count  Dtype  \n",
      "---  ------          --------------  -----  \n",
      " 0   age             41164 non-null  int64  \n",
      " 1   job             41164 non-null  object \n",
      " 2   marital         41164 non-null  object \n",
      " 3   education       41164 non-null  object \n",
      " 4   default         41164 non-null  object \n",
      " 5   housing         41164 non-null  object \n",
      " 6   loan            41164 non-null  object \n",
      " 7   contact         41164 non-null  object \n",
      " 8   month           41164 non-null  object \n",
      " 9   day_of_week     41164 non-null  object \n",
      " 10  duration        41164 non-null  int64  \n",
      " 11  campaign        41164 non-null  int64  \n",
      " 12  pdays           41164 non-null  int64  \n",
      " 13  previous        41164 non-null  int64  \n",
      " 14  poutcome        41164 non-null  object \n",
      " 15  emp.var.rate    41164 non-null  float64\n",
      " 16  cons.price.idx  41164 non-null  float64\n",
      " 17  cons.conf.idx   41164 non-null  float64\n",
      " 18  euribor3m       41164 non-null  float64\n",
      " 19  nr.employed     41164 non-null  float64\n",
      " 20  y               41164 non-null  object \n",
      "dtypes: float64(5), int64(5), object(11)\n",
      "memory usage: 6.9+ MB\n"
     ]
    }
   ],
   "metadata": {}
  },
  {
   "cell_type": "markdown",
   "source": [
    "## Data Exploration Analysis\r\n",
    "---"
   ],
   "metadata": {}
  },
  {
   "cell_type": "code",
   "execution_count": 12,
   "source": [
    "# Age distribution\r\n",
    "df_bm.age.hist()\r\n",
    "plt.title('Histogram')\r\n",
    "plt.xlabel('Age')\r\n",
    "plt.ylabel('Frequency')\r\n",
    "plt.savefig('age_distribution')"
   ],
   "outputs": [
    {
     "output_type": "display_data",
     "data": {
      "image/png": "[encoded data removed]",
      "text/plain": [
       "<Figure size 432x288 with 1 Axes>"
      ]
     },
     "metadata": {
      "needs_background": "light"
     }
    }
   ],
   "metadata": {}
  },
  {
   "cell_type": "code",
   "execution_count": 13,
   "source": [
    "pd.crosstab(df_bm.age,df_bm.y).plot(kind=\"area\",figsize=(15,7),color=['blue','orange' ])\r\n",
    "plt.title('Age Distribution')\r\n",
    "plt.xlabel('Age')\r\n",
    "plt.ylabel('Frequency')\r\n",
    "plt.show()"
   ],
   "outputs": [
    {
     "output_type": "display_data",
     "data": {
      "image/png": "[encoded data removed]",
      "text/plain": [
       "<Figure size 1080x504 with 1 Axes>"
      ]
     },
     "metadata": {
      "needs_background": "light"
     }
    }
   ],
   "metadata": {}
  },
  {
   "cell_type": "markdown",
   "source": [
    "many of client at 24 - 60 years old had deposit"
   ],
   "metadata": {}
  },
  {
   "cell_type": "code",
   "execution_count": 14,
   "source": [
    "plt.figure(figsize = (17, 6))\r\n",
    "sns.countplot('education', hue = 'y', data = df_bm)"
   ],
   "outputs": [
    {
     "output_type": "execute_result",
     "data": {
      "text/plain": [
       "<AxesSubplot:xlabel='education', ylabel='count'>"
      ]
     },
     "metadata": {},
     "execution_count": 14
    },
    {
     "output_type": "display_data",
     "data": {
      "image/png": "[encoded data removed]",
      "text/plain": [
       "<Figure size 1224x432 with 1 Axes>"
      ]
     },
     "metadata": {
      "needs_background": "light"
     }
    }
   ],
   "metadata": {}
  },
  {
   "cell_type": "code",
   "execution_count": 15,
   "source": [
    "plt.figure(figsize = (17, 6))\r\n",
    "sns.countplot('job', hue = 'y', data = df_bm)"
   ],
   "outputs": [
    {
     "output_type": "execute_result",
     "data": {
      "text/plain": [
       "<AxesSubplot:xlabel='job', ylabel='count'>"
      ]
     },
     "metadata": {},
     "execution_count": 15
    },
    {
     "output_type": "display_data",
     "data": {
      "image/png": "[encoded data removed]",
      "text/plain": [
       "<Figure size 1224x432 with 1 Axes>"
      ]
     },
     "metadata": {
      "needs_background": "light"
     }
    }
   ],
   "metadata": {}
  },
  {
   "cell_type": "code",
   "execution_count": 16,
   "source": [
    "plt.figure(figsize = (17, 6))\r\n",
    "sns.countplot('loan', hue = 'y', data = df_bm)"
   ],
   "outputs": [
    {
     "output_type": "execute_result",
     "data": {
      "text/plain": [
       "<AxesSubplot:xlabel='loan', ylabel='count'>"
      ]
     },
     "metadata": {},
     "execution_count": 16
    },
    {
     "output_type": "display_data",
     "data": {
      "image/png": "[encoded data removed]",
      "text/plain": [
       "<Figure size 1224x432 with 1 Axes>"
      ]
     },
     "metadata": {
      "needs_background": "light"
     }
    }
   ],
   "metadata": {}
  },
  {
   "cell_type": "code",
   "execution_count": 17,
   "source": [
    "plt.figure(figsize = (17, 6))\r\n",
    "sns.countplot('housing', hue = 'y', data = df_bm)"
   ],
   "outputs": [
    {
     "output_type": "execute_result",
     "data": {
      "text/plain": [
       "<AxesSubplot:xlabel='housing', ylabel='count'>"
      ]
     },
     "metadata": {},
     "execution_count": 17
    },
    {
     "output_type": "display_data",
     "data": {
      "image/png": "[encoded data removed]",
      "text/plain": [
       "<Figure size 1224x432 with 1 Axes>"
      ]
     },
     "metadata": {
      "needs_background": "light"
     }
    }
   ],
   "metadata": {}
  },
  {
   "cell_type": "markdown",
   "source": [
    "## Data Preprocessing\r\n",
    "---"
   ],
   "metadata": {}
  },
  {
   "cell_type": "code",
   "execution_count": 18,
   "source": [
    "# Columns to be dropped\r\n",
    "to_drop = ['duration']\r\n",
    "df_drop = df.drop(to_drop, axis=1)\r\n",
    "\r\n",
    "# Verifyng\r\n",
    "print(f'Shape before the drop: {df.shape}')\r\n",
    "print(f'Shape after the drop: {df_drop.shape}')\r\n",
    "df_drop.head()"
   ],
   "outputs": [
    {
     "output_type": "stream",
     "name": "stdout",
     "text": [
      "Shape before the drop: (41188, 21)\n",
      "Shape after the drop: (41188, 20)\n"
     ]
    },
    {
     "output_type": "execute_result",
     "data": {
      "text/html": [
       "<div>\n",
       "<style scoped>\n",
       "    .dataframe tbody tr th:only-of-type {\n",
       "        vertical-align: middle;\n",
       "    }\n",
       "\n",
       "    .dataframe tbody tr th {\n",
       "        vertical-align: top;\n",
       "    }\n",
       "\n",
       "    .dataframe thead th {\n",
       "        text-align: right;\n",
       "    }\n",
       "</style>\n",
       "<table border=\"1\" class=\"dataframe\">\n",
       "  <thead>\n",
       "    <tr style=\"text-align: right;\">\n",
       "      <th></th>\n",
       "      <th>age</th>\n",
       "      <th>job</th>\n",
       "      <th>marital</th>\n",
       "      <th>education</th>\n",
       "      <th>default</th>\n",
       "      <th>housing</th>\n",
       "      <th>loan</th>\n",
       "      <th>contact</th>\n",
       "      <th>month</th>\n",
       "      <th>day_of_week</th>\n",
       "      <th>campaign</th>\n",
       "      <th>pdays</th>\n",
       "      <th>previous</th>\n",
       "      <th>poutcome</th>\n",
       "      <th>emp.var.rate</th>\n",
       "      <th>cons.price.idx</th>\n",
       "      <th>cons.conf.idx</th>\n",
       "      <th>euribor3m</th>\n",
       "      <th>nr.employed</th>\n",
       "      <th>y</th>\n",
       "    </tr>\n",
       "  </thead>\n",
       "  <tbody>\n",
       "    <tr>\n",
       "      <th>0</th>\n",
       "      <td>56</td>\n",
       "      <td>housemaid</td>\n",
       "      <td>married</td>\n",
       "      <td>basic.4y</td>\n",
       "      <td>no</td>\n",
       "      <td>no</td>\n",
       "      <td>no</td>\n",
       "      <td>telephone</td>\n",
       "      <td>may</td>\n",
       "      <td>mon</td>\n",
       "      <td>1</td>\n",
       "      <td>999</td>\n",
       "      <td>0</td>\n",
       "      <td>nonexistent</td>\n",
       "      <td>1.1</td>\n",
       "      <td>93.994</td>\n",
       "      <td>-36.4</td>\n",
       "      <td>4.857</td>\n",
       "      <td>5191.0</td>\n",
       "      <td>no</td>\n",
       "    </tr>\n",
       "    <tr>\n",
       "      <th>1</th>\n",
       "      <td>57</td>\n",
       "      <td>services</td>\n",
       "      <td>married</td>\n",
       "      <td>high.school</td>\n",
       "      <td>unknown</td>\n",
       "      <td>no</td>\n",
       "      <td>no</td>\n",
       "      <td>telephone</td>\n",
       "      <td>may</td>\n",
       "      <td>mon</td>\n",
       "      <td>1</td>\n",
       "      <td>999</td>\n",
       "      <td>0</td>\n",
       "      <td>nonexistent</td>\n",
       "      <td>1.1</td>\n",
       "      <td>93.994</td>\n",
       "      <td>-36.4</td>\n",
       "      <td>4.857</td>\n",
       "      <td>5191.0</td>\n",
       "      <td>no</td>\n",
       "    </tr>\n",
       "    <tr>\n",
       "      <th>2</th>\n",
       "      <td>37</td>\n",
       "      <td>services</td>\n",
       "      <td>married</td>\n",
       "      <td>high.school</td>\n",
       "      <td>no</td>\n",
       "      <td>yes</td>\n",
       "      <td>no</td>\n",
       "      <td>telephone</td>\n",
       "      <td>may</td>\n",
       "      <td>mon</td>\n",
       "      <td>1</td>\n",
       "      <td>999</td>\n",
       "      <td>0</td>\n",
       "      <td>nonexistent</td>\n",
       "      <td>1.1</td>\n",
       "      <td>93.994</td>\n",
       "      <td>-36.4</td>\n",
       "      <td>4.857</td>\n",
       "      <td>5191.0</td>\n",
       "      <td>no</td>\n",
       "    </tr>\n",
       "    <tr>\n",
       "      <th>3</th>\n",
       "      <td>40</td>\n",
       "      <td>admin.</td>\n",
       "      <td>married</td>\n",
       "      <td>basic.6y</td>\n",
       "      <td>no</td>\n",
       "      <td>no</td>\n",
       "      <td>no</td>\n",
       "      <td>telephone</td>\n",
       "      <td>may</td>\n",
       "      <td>mon</td>\n",
       "      <td>1</td>\n",
       "      <td>999</td>\n",
       "      <td>0</td>\n",
       "      <td>nonexistent</td>\n",
       "      <td>1.1</td>\n",
       "      <td>93.994</td>\n",
       "      <td>-36.4</td>\n",
       "      <td>4.857</td>\n",
       "      <td>5191.0</td>\n",
       "      <td>no</td>\n",
       "    </tr>\n",
       "    <tr>\n",
       "      <th>4</th>\n",
       "      <td>56</td>\n",
       "      <td>services</td>\n",
       "      <td>married</td>\n",
       "      <td>high.school</td>\n",
       "      <td>no</td>\n",
       "      <td>no</td>\n",
       "      <td>yes</td>\n",
       "      <td>telephone</td>\n",
       "      <td>may</td>\n",
       "      <td>mon</td>\n",
       "      <td>1</td>\n",
       "      <td>999</td>\n",
       "      <td>0</td>\n",
       "      <td>nonexistent</td>\n",
       "      <td>1.1</td>\n",
       "      <td>93.994</td>\n",
       "      <td>-36.4</td>\n",
       "      <td>4.857</td>\n",
       "      <td>5191.0</td>\n",
       "      <td>no</td>\n",
       "    </tr>\n",
       "  </tbody>\n",
       "</table>\n",
       "</div>"
      ],
      "text/plain": [
       "   age        job  marital    education  default housing loan    contact  \\\n",
       "0   56  housemaid  married     basic.4y       no      no   no  telephone   \n",
       "1   57   services  married  high.school  unknown      no   no  telephone   \n",
       "2   37   services  married  high.school       no     yes   no  telephone   \n",
       "3   40     admin.  married     basic.6y       no      no   no  telephone   \n",
       "4   56   services  married  high.school       no      no  yes  telephone   \n",
       "\n",
       "  month day_of_week  campaign  pdays  previous     poutcome  emp.var.rate  \\\n",
       "0   may         mon         1    999         0  nonexistent           1.1   \n",
       "1   may         mon         1    999         0  nonexistent           1.1   \n",
       "2   may         mon         1    999         0  nonexistent           1.1   \n",
       "3   may         mon         1    999         0  nonexistent           1.1   \n",
       "4   may         mon         1    999         0  nonexistent           1.1   \n",
       "\n",
       "   cons.price.idx  cons.conf.idx  euribor3m  nr.employed   y  \n",
       "0          93.994          -36.4      4.857       5191.0  no  \n",
       "1          93.994          -36.4      4.857       5191.0  no  \n",
       "2          93.994          -36.4      4.857       5191.0  no  \n",
       "3          93.994          -36.4      4.857       5191.0  no  \n",
       "4          93.994          -36.4      4.857       5191.0  no  "
      ]
     },
     "metadata": {},
     "execution_count": 18
    }
   ],
   "metadata": {}
  },
  {
   "cell_type": "code",
   "execution_count": 19,
   "source": [
    "# Numeric columns\r\n",
    "df_numeric = df_bm.select_dtypes(exclude=\"object\")\r\n",
    "print(df_numeric.columns)\r\n",
    "print(\"\")\r\n",
    "\r\n",
    "\r\n",
    "#Categorical columns\r\n",
    "df_categoric = df_bm.select_dtypes(include=\"object\")\r\n",
    "print(df_categoric.columns)"
   ],
   "outputs": [
    {
     "output_type": "stream",
     "name": "stdout",
     "text": [
      "Index(['age', 'duration', 'campaign', 'pdays', 'previous', 'emp.var.rate',\n",
      "       'cons.price.idx', 'cons.conf.idx', 'euribor3m', 'nr.employed'],\n",
      "      dtype='object')\n",
      "\n",
      "Index(['job', 'marital', 'education', 'default', 'housing', 'loan', 'contact',\n",
      "       'month', 'day_of_week', 'poutcome', 'y'],\n",
      "      dtype='object')\n"
     ]
    }
   ],
   "metadata": {}
  },
  {
   "cell_type": "code",
   "execution_count": 20,
   "source": [
    "# Splitting the data\r\n",
    "X = df_bm.drop('y', axis=1)\r\n",
    "y = df_bm['y'].values\r\n",
    "\r\n",
    "X_train, X_test, y_train, y_test = train_test_split(X, y, test_size=.20, random_state=42)\r\n",
    "print(f'Shape of X_train: {X_train.shape}')\r\n",
    "print(f'Shape of X_test: {X_test.shape}')"
   ],
   "outputs": [
    {
     "output_type": "stream",
     "name": "stdout",
     "text": [
      "Shape of X_train: (32931, 20)\n",
      "Shape of X_test: (8233, 20)\n"
     ]
    }
   ],
   "metadata": {}
  },
  {
   "cell_type": "code",
   "execution_count": 21,
   "source": [
    "# Returing features by dtype\r\n",
    "num_features = [col for col, dtype in X_train.dtypes.items() if dtype != 'object']\r\n",
    "cat_features = [col for col, dtype in X_train.dtypes.items() if dtype == 'object']\r\n",
    "print(f'Total of numerical features: {len(num_features)}')\r\n",
    "print(f'Total of categorical features: {len(cat_features)}')\r\n",
    "\r\n",
    "# Splitting data by dtype\r\n",
    "X_train_num = X_train[num_features]\r\n",
    "X_train_cat = X_train[cat_features]\r\n",
    "print(f'\\nShape of numerical training data: {X_train_num.shape}')\r\n",
    "print(f'Shape of categorical training data: {X_train_cat.shape}')"
   ],
   "outputs": [
    {
     "output_type": "stream",
     "name": "stdout",
     "text": [
      "Total of numerical features: 10\n",
      "Total of categorical features: 10\n",
      "\n",
      "Shape of numerical training data: (32931, 10)\n",
      "Shape of categorical training data: (32931, 10)\n"
     ]
    }
   ],
   "metadata": {}
  },
  {
   "cell_type": "code",
   "execution_count": 22,
   "source": [
    "# Class for splitting the data by dtype\r\n",
    "class SplitDataDtype(BaseEstimator, TransformerMixin):\r\n",
    "    \r\n",
    "    def fit(self, X, y=None):\r\n",
    "        return self\r\n",
    "    \r\n",
    "    def transform(self, X, y=None):\r\n",
    "        # Returing features by dtype\r\n",
    "        self.num_features = [col for col, dtype in X.dtypes.items() if dtype != 'object']\r\n",
    "        self.cat_features = [col for col, dtype in X.dtypes.items() if dtype == 'object']\r\n",
    "        \r\n",
    "        # Indexing data\r\n",
    "        X_num = X[self.num_features]\r\n",
    "        X_cat = X[self.cat_features]\r\n",
    "        \r\n",
    "        return X_num, X_cat"
   ],
   "outputs": [],
   "metadata": {}
  },
  {
   "cell_type": "code",
   "execution_count": 23,
   "source": [
    "# Creating object and calling the fit_transform method\r\n",
    "dtype_splitter = SplitDataDtype()\r\n",
    "X_train_num, X_train_cat = dtype_splitter.fit_transform(X_train)\r\n",
    "\r\n",
    "print(f'Shape of numerical training data: {X_train_num.shape}')\r\n",
    "print(f'Shape of categorical training data: {X_train_cat.shape}')"
   ],
   "outputs": [
    {
     "output_type": "stream",
     "name": "stdout",
     "text": [
      "Shape of numerical training data: (32931, 10)\n",
      "Shape of categorical training data: (32931, 10)\n"
     ]
    }
   ],
   "metadata": {}
  },
  {
   "cell_type": "markdown",
   "source": [
    "### Categorical Pipeline"
   ],
   "metadata": {}
  },
  {
   "cell_type": "code",
   "execution_count": 24,
   "source": [
    "# Class for encoding the data\r\n",
    "class DummiesEncoding(BaseEstimator, TransformerMixin):\r\n",
    "    \r\n",
    "    def fit(self, X, y=None):\r\n",
    "        return self\r\n",
    "    \r\n",
    "    def transform(self, X, y=None):\r\n",
    "        # Collecting variables\r\n",
    "        self.cat_features_ori = [col for col, dtype in X.dtypes.items() if dtype == 'object']\r\n",
    "        \r\n",
    "        # Applying encoding with get_dummies()\r\n",
    "        X_cat_dum = pd.get_dummies(X)\r\n",
    "        \r\n",
    "        # Merging the datasets and eliminating old columns\r\n",
    "        X_dum = X.join(X_cat_dum)\r\n",
    "        X_dum = X_dum.drop(self.cat_features_ori, axis=1)\r\n",
    "        self.features_after_encoding = list(X_dum.columns)\r\n",
    "        \r\n",
    "        return X_dum"
   ],
   "outputs": [],
   "metadata": {}
  },
  {
   "cell_type": "code",
   "execution_count": 25,
   "source": [
    "# Applying encoding on categorical data\r\n",
    "encoder = DummiesEncoding()\r\n",
    "X_train_encoded = encoder.fit_transform(X_train_cat)\r\n",
    "\r\n",
    "print(f'Shape of X_train_encoded: {X_train_encoded.shape}')\r\n",
    "X_train_encoded.head()"
   ],
   "outputs": [
    {
     "output_type": "stream",
     "name": "stdout",
     "text": [
      "Shape of X_train_encoded: (32931, 53)\n"
     ]
    },
    {
     "output_type": "execute_result",
     "data": {
      "text/html": [
       "<div>\n",
       "<style scoped>\n",
       "    .dataframe tbody tr th:only-of-type {\n",
       "        vertical-align: middle;\n",
       "    }\n",
       "\n",
       "    .dataframe tbody tr th {\n",
       "        vertical-align: top;\n",
       "    }\n",
       "\n",
       "    .dataframe thead th {\n",
       "        text-align: right;\n",
       "    }\n",
       "</style>\n",
       "<table border=\"1\" class=\"dataframe\">\n",
       "  <thead>\n",
       "    <tr style=\"text-align: right;\">\n",
       "      <th></th>\n",
       "      <th>job_admin.</th>\n",
       "      <th>job_blue-collar</th>\n",
       "      <th>job_entrepreneur</th>\n",
       "      <th>job_housemaid</th>\n",
       "      <th>job_management</th>\n",
       "      <th>job_retired</th>\n",
       "      <th>job_self-employed</th>\n",
       "      <th>job_services</th>\n",
       "      <th>job_student</th>\n",
       "      <th>job_technician</th>\n",
       "      <th>...</th>\n",
       "      <th>month_oct</th>\n",
       "      <th>month_sep</th>\n",
       "      <th>day_of_week_fri</th>\n",
       "      <th>day_of_week_mon</th>\n",
       "      <th>day_of_week_thu</th>\n",
       "      <th>day_of_week_tue</th>\n",
       "      <th>day_of_week_wed</th>\n",
       "      <th>poutcome_failure</th>\n",
       "      <th>poutcome_nonexistent</th>\n",
       "      <th>poutcome_success</th>\n",
       "    </tr>\n",
       "  </thead>\n",
       "  <tbody>\n",
       "    <tr>\n",
       "      <th>6100</th>\n",
       "      <td>0</td>\n",
       "      <td>0</td>\n",
       "      <td>0</td>\n",
       "      <td>0</td>\n",
       "      <td>0</td>\n",
       "      <td>0</td>\n",
       "      <td>0</td>\n",
       "      <td>0</td>\n",
       "      <td>0</td>\n",
       "      <td>1</td>\n",
       "      <td>...</td>\n",
       "      <td>0</td>\n",
       "      <td>0</td>\n",
       "      <td>0</td>\n",
       "      <td>0</td>\n",
       "      <td>0</td>\n",
       "      <td>1</td>\n",
       "      <td>0</td>\n",
       "      <td>0</td>\n",
       "      <td>1</td>\n",
       "      <td>0</td>\n",
       "    </tr>\n",
       "    <tr>\n",
       "      <th>6254</th>\n",
       "      <td>0</td>\n",
       "      <td>0</td>\n",
       "      <td>0</td>\n",
       "      <td>0</td>\n",
       "      <td>0</td>\n",
       "      <td>0</td>\n",
       "      <td>0</td>\n",
       "      <td>1</td>\n",
       "      <td>0</td>\n",
       "      <td>0</td>\n",
       "      <td>...</td>\n",
       "      <td>0</td>\n",
       "      <td>0</td>\n",
       "      <td>0</td>\n",
       "      <td>0</td>\n",
       "      <td>0</td>\n",
       "      <td>1</td>\n",
       "      <td>0</td>\n",
       "      <td>0</td>\n",
       "      <td>1</td>\n",
       "      <td>0</td>\n",
       "    </tr>\n",
       "    <tr>\n",
       "      <th>13796</th>\n",
       "      <td>0</td>\n",
       "      <td>0</td>\n",
       "      <td>0</td>\n",
       "      <td>0</td>\n",
       "      <td>0</td>\n",
       "      <td>0</td>\n",
       "      <td>0</td>\n",
       "      <td>0</td>\n",
       "      <td>0</td>\n",
       "      <td>1</td>\n",
       "      <td>...</td>\n",
       "      <td>0</td>\n",
       "      <td>0</td>\n",
       "      <td>0</td>\n",
       "      <td>0</td>\n",
       "      <td>1</td>\n",
       "      <td>0</td>\n",
       "      <td>0</td>\n",
       "      <td>0</td>\n",
       "      <td>1</td>\n",
       "      <td>0</td>\n",
       "    </tr>\n",
       "    <tr>\n",
       "      <th>39317</th>\n",
       "      <td>0</td>\n",
       "      <td>0</td>\n",
       "      <td>0</td>\n",
       "      <td>0</td>\n",
       "      <td>1</td>\n",
       "      <td>0</td>\n",
       "      <td>0</td>\n",
       "      <td>0</td>\n",
       "      <td>0</td>\n",
       "      <td>0</td>\n",
       "      <td>...</td>\n",
       "      <td>0</td>\n",
       "      <td>0</td>\n",
       "      <td>0</td>\n",
       "      <td>0</td>\n",
       "      <td>1</td>\n",
       "      <td>0</td>\n",
       "      <td>0</td>\n",
       "      <td>0</td>\n",
       "      <td>1</td>\n",
       "      <td>0</td>\n",
       "    </tr>\n",
       "    <tr>\n",
       "      <th>14296</th>\n",
       "      <td>0</td>\n",
       "      <td>1</td>\n",
       "      <td>0</td>\n",
       "      <td>0</td>\n",
       "      <td>0</td>\n",
       "      <td>0</td>\n",
       "      <td>0</td>\n",
       "      <td>0</td>\n",
       "      <td>0</td>\n",
       "      <td>0</td>\n",
       "      <td>...</td>\n",
       "      <td>0</td>\n",
       "      <td>0</td>\n",
       "      <td>0</td>\n",
       "      <td>1</td>\n",
       "      <td>0</td>\n",
       "      <td>0</td>\n",
       "      <td>0</td>\n",
       "      <td>0</td>\n",
       "      <td>1</td>\n",
       "      <td>0</td>\n",
       "    </tr>\n",
       "  </tbody>\n",
       "</table>\n",
       "<p>5 rows × 53 columns</p>\n",
       "</div>"
      ],
      "text/plain": [
       "       job_admin.  job_blue-collar  job_entrepreneur  job_housemaid  \\\n",
       "6100            0                0                 0              0   \n",
       "6254            0                0                 0              0   \n",
       "13796           0                0                 0              0   \n",
       "39317           0                0                 0              0   \n",
       "14296           0                1                 0              0   \n",
       "\n",
       "       job_management  job_retired  job_self-employed  job_services  \\\n",
       "6100                0            0                  0             0   \n",
       "6254                0            0                  0             1   \n",
       "13796               0            0                  0             0   \n",
       "39317               1            0                  0             0   \n",
       "14296               0            0                  0             0   \n",
       "\n",
       "       job_student  job_technician  ...  month_oct  month_sep  \\\n",
       "6100             0               1  ...          0          0   \n",
       "6254             0               0  ...          0          0   \n",
       "13796            0               1  ...          0          0   \n",
       "39317            0               0  ...          0          0   \n",
       "14296            0               0  ...          0          0   \n",
       "\n",
       "       day_of_week_fri  day_of_week_mon  day_of_week_thu  day_of_week_tue  \\\n",
       "6100                 0                0                0                1   \n",
       "6254                 0                0                0                1   \n",
       "13796                0                0                1                0   \n",
       "39317                0                0                1                0   \n",
       "14296                0                1                0                0   \n",
       "\n",
       "       day_of_week_wed  poutcome_failure  poutcome_nonexistent  \\\n",
       "6100                 0                 0                     1   \n",
       "6254                 0                 0                     1   \n",
       "13796                0                 0                     1   \n",
       "39317                0                 0                     1   \n",
       "14296                0                 0                     1   \n",
       "\n",
       "       poutcome_success  \n",
       "6100                  0  \n",
       "6254                  0  \n",
       "13796                 0  \n",
       "39317                 0  \n",
       "14296                 0  \n",
       "\n",
       "[5 rows x 53 columns]"
      ]
     },
     "metadata": {},
     "execution_count": 25
    }
   ],
   "metadata": {}
  },
  {
   "cell_type": "markdown",
   "source": [
    "### Numerical Pipeline"
   ],
   "metadata": {}
  },
  {
   "cell_type": "code",
   "execution_count": 26,
   "source": [
    "# Scaling with StandardScaler()\r\n",
    "scaler = StandardScaler()\r\n",
    "X_train_scaled = scaler.fit_transform(X_train_num)\r\n",
    "\r\n",
    "X_train_scaled[0]"
   ],
   "outputs": [
    {
     "output_type": "execute_result",
     "data": {
      "text/plain": [
       "array([-0.28641585, -0.01317826,  4.79528163,  0.19572469, -0.35173876,\n",
       "        0.64686482,  0.72131718,  0.8924455 ,  0.71133935,  0.32899511])"
      ]
     },
     "metadata": {},
     "execution_count": 26
    }
   ],
   "metadata": {}
  },
  {
   "cell_type": "markdown",
   "source": [
    "### Full Pipeline"
   ],
   "metadata": {}
  },
  {
   "cell_type": "code",
   "execution_count": 27,
   "source": [
    "dtype_spliter = SplitDataDtype()\r\n",
    "X_num, X_cat = dtype_spliter.fit_transform(X_train)\r\n",
    "num_features = dtype_spliter.num_features\r\n",
    "cat_features = dtype_spliter.cat_features\r\n",
    "\r\n",
    "# Numerical pipeline\r\n",
    "num_pipeline = Pipeline([\r\n",
    "    ('scaler', StandardScaler())\r\n",
    "])\r\n",
    "\r\n",
    "# Categorical pipeline\r\n",
    "cat_pipeline = Pipeline([\r\n",
    "    ('encoder', DummiesEncoding())\r\n",
    "])\r\n",
    "\r\n",
    "# Full pipeline\r\n",
    "full_pipeline = ColumnTransformer([\r\n",
    "    ('num', num_pipeline, num_features),\r\n",
    "    ('cat', cat_pipeline, cat_features)\r\n",
    "])\r\n",
    "\r\n",
    "# Applying the complete pipeline on the training set\r\n",
    "X_train_prep = full_pipeline.fit_transform(X_train)\r\n",
    "\r\n",
    "# Returning features\r\n",
    "cat_features_encoded = full_pipeline.named_transformers_['cat']['encoder'].features_after_encoding\r\n",
    "model_features = num_features + cat_features_encoded"
   ],
   "outputs": [],
   "metadata": {}
  },
  {
   "cell_type": "code",
   "execution_count": 28,
   "source": [
    "# Result\r\n",
    "print(f'Shape of X_train: {X_train.shape}')\r\n",
    "print(f'Shape of X_train_prep: {X_train_prep.shape}')\r\n",
    "print(f'Total features: {len(model_features)}')\r\n",
    "print(f'\\nFirst line of X_train_prep: \\n\\n{X_train_prep[0]}')"
   ],
   "outputs": [
    {
     "output_type": "stream",
     "name": "stdout",
     "text": [
      "Shape of X_train: (32931, 20)\n",
      "Shape of X_train_prep: (32931, 63)\n",
      "Total features: 63\n",
      "\n",
      "First line of X_train_prep: \n",
      "\n",
      "[-0.28641585 -0.01317826  4.79528163  0.19572469 -0.35173876  0.64686482\n",
      "  0.72131718  0.8924455   0.71133935  0.32899511  0.          0.\n",
      "  0.          0.          0.          0.          0.          0.\n",
      "  0.          1.          0.          0.          0.          1.\n",
      "  0.          0.          0.          0.          0.          0.\n",
      "  0.          1.          0.          0.          1.          0.\n",
      "  0.          1.          0.          0.          1.          0.\n",
      "  0.          0.          1.          0.          0.          0.\n",
      "  0.          0.          0.          1.          0.          0.\n",
      "  0.          0.          0.          0.          1.          0.\n",
      "  0.          1.          0.        ]\n"
     ]
    }
   ],
   "metadata": {}
  },
  {
   "cell_type": "code",
   "execution_count": 29,
   "source": [
    "# Applying the same pipeline for the test set\r\n",
    "X_test_prep = full_pipeline.fit_transform(X_test)\r\n",
    "\r\n",
    "print(f'Shape of X_test_prep: {X_test_prep.shape}')"
   ],
   "outputs": [
    {
     "output_type": "stream",
     "name": "stdout",
     "text": [
      "Shape of X_test_prep: (8233, 63)\n"
     ]
    }
   ],
   "metadata": {}
  },
  {
   "cell_type": "code",
   "execution_count": 30,
   "source": [
    "# Saving everything on a prepared set to feed some homemade classes\r\n",
    "\r\n",
    "set_prep = {\r\n",
    "    'X_train_prep': X_train_prep,\r\n",
    "    'X_test_prep': X_test_prep,\r\n",
    "    'y_train': y_train,\r\n",
    "    'y_test': y_test\r\n",
    "}"
   ],
   "outputs": [],
   "metadata": {}
  },
  {
   "cell_type": "markdown",
   "source": [
    "## Modelling\r\n",
    "---"
   ],
   "metadata": {}
  },
  {
   "cell_type": "markdown",
   "source": [
    "### Logistic Regression"
   ],
   "metadata": {}
  },
  {
   "cell_type": "code",
   "execution_count": 38,
   "source": [
    "t0 = time.time()\r\n",
    "logreg=LogisticRegression()\r\n",
    "logreg.fit(X_train_prep,y_train)\r\n",
    "print('# Logistic Regression Models Results\\n')\r\n",
    "print('Training Score: ',logreg.score(X_train_prep, y_train))\r\n",
    "print('Accuracy Score: ', accuracy_score(y_test,logreg.predict(X_test_prep)))\r\n",
    "print('Time taken :' , time.time()-t0)"
   ],
   "outputs": [
    {
     "output_type": "stream",
     "name": "stdout",
     "text": [
      "# Logistic Regression Models Results\n",
      "\n",
      "Training Score:  0.9129088093285962\n",
      "Accuracy Score:  0.9073241831653104\n",
      "Time taken : 0.5089986324310303\n"
     ]
    }
   ],
   "metadata": {}
  },
  {
   "cell_type": "markdown",
   "source": [
    "### Support Vector Machines"
   ],
   "metadata": {}
  },
  {
   "cell_type": "code",
   "execution_count": 39,
   "source": [
    "t0 = time.time()\r\n",
    "SVM=SVC()\r\n",
    "SVM.fit(X_train_prep,y_train)\r\n",
    "print('# Support Vector Machines Models Results\\n')\r\n",
    "print('Training Score: ',SVM.score(X_train_prep, y_train))\r\n",
    "print('Accuracy Score: ', accuracy_score(y_test,SVM.predict(X_test_prep)))\r\n",
    "print('Time taken :' , time.time()-t0)"
   ],
   "outputs": [
    {
     "output_type": "stream",
     "name": "stdout",
     "text": [
      "# Support Vector Machines Models Results\n",
      "\n",
      "Training Score:  0.9230815948498375\n",
      "Accuracy Score:  0.9064739463136159\n",
      "Time taken : 52.24464559555054\n"
     ]
    }
   ],
   "metadata": {}
  },
  {
   "cell_type": "markdown",
   "source": [
    "### Decision Tree Classifier"
   ],
   "metadata": {}
  },
  {
   "cell_type": "code",
   "execution_count": 41,
   "source": [
    "t0 = time.time()\r\n",
    "Decision_tree=DecisionTreeClassifier()\r\n",
    "Decision_tree.fit(X_train_prep,y_train)\r\n",
    "print(\"\\n # Decision Tree Classifier Model Results\\n\")\r\n",
    "print('Training Score: ',Decision_tree.score(X_train_prep,y_train))\r\n",
    "print('Testing Score: ',accuracy_score(y_test,Decision_tree.predict(X_test_prep)))\r\n",
    "print('Time taken :' , time.time()-t0)"
   ],
   "outputs": [
    {
     "output_type": "stream",
     "name": "stdout",
     "text": [
      "\n",
      " # Decision Tree Classifier Model Results\n",
      "\n",
      "Training Score:  1.0\n",
      "Testing Score:  0.8824243896514029\n",
      "Time taken : 0.35500025749206543\n"
     ]
    }
   ],
   "metadata": {}
  },
  {
   "cell_type": "markdown",
   "source": [
    "### Random Forest"
   ],
   "metadata": {}
  },
  {
   "cell_type": "code",
   "execution_count": 36,
   "source": [
    "rf_classifier=RandomForestClassifier()\r\n",
    "rf_classifier.fit(X_train_prep,y_train)\r\n",
    "print(\"\\n # Random Forest Classifier Model Results\\n\")\r\n",
    "print('Training Score: ',rf_classifier.score(X_train_prep,y_train))\r\n",
    "print('Testing Score: ',accuracy_score(y_test,rf_classifier.predict(X_test_prep)))\r\n",
    "print('Time taken :' , time.time()-t0)"
   ],
   "outputs": [
    {
     "output_type": "stream",
     "name": "stdout",
     "text": [
      "\n",
      " # Random Forest Classifier Model Results\n",
      "\n",
      "Training Score:  1.0\n",
      "Testing Score:  0.9084173448317746\n",
      "Time taken : 194.00823378562927\n"
     ]
    }
   ],
   "metadata": {}
  },
  {
   "cell_type": "markdown",
   "source": [
    "### K Nearest neigbors"
   ],
   "metadata": {}
  },
  {
   "cell_type": "code",
   "execution_count": 42,
   "source": [
    "t0 = time.time()\r\n",
    "knn_classifier=KNeighborsClassifier()\r\n",
    "knn_classifier.fit(X_train_prep,y_train)\r\n",
    "print(\"\\n # KNN Classifier Model Results\\n\")\r\n",
    "print('Training Score: ',knn_classifier.score(X_train_prep,y_train))\r\n",
    "print('Testing Score: ',accuracy_score(y_test,rf_classifier.predict(X_test_prep)))\r\n",
    "print('Time taken :' , time.time()-t0)"
   ],
   "outputs": [
    {
     "output_type": "stream",
     "name": "stdout",
     "text": [
      "\n",
      " # KNN Classifier Model Results\n",
      "\n",
      "Training Score:  0.9282135373963742\n",
      "Testing Score:  0.9084173448317746\n",
      "Time taken : 25.786948680877686\n"
     ]
    }
   ],
   "metadata": {}
  },
  {
   "cell_type": "markdown",
   "source": [
    "### Naive Bayes"
   ],
   "metadata": {}
  },
  {
   "cell_type": "code",
   "execution_count": 43,
   "source": [
    "t0 = time.time()\r\n",
    "naba=GaussianNB()\r\n",
    "naba.fit(X_train_prep,y_train)\r\n",
    "print(\"\\n # Naive Bays Model Results\\n\")\r\n",
    "print('Training Score: ',naba.score(X_train_prep,y_train))\r\n",
    "print('Testing Score: ',accuracy_score(y_test,rf_classifier.predict(X_test_prep)))\r\n",
    "print('Time taken :' , time.time()-t0)"
   ],
   "outputs": [
    {
     "output_type": "stream",
     "name": "stdout",
     "text": [
      "\n",
      " # Naive Bays Model Results\n",
      "\n",
      "Training Score:  0.8200176125838875\n",
      "Testing Score:  0.9084173448317746\n",
      "Time taken : 0.3890705108642578\n"
     ]
    }
   ],
   "metadata": {}
  },
  {
   "cell_type": "markdown",
   "source": [
    "### XG Boost"
   ],
   "metadata": {}
  },
  {
   "cell_type": "code",
   "execution_count": 44,
   "source": [
    "t0 = time.time()\r\n",
    "xgb=XGBClassifier()\r\n",
    "xgb.fit(X_train_prep,y_train)\r\n",
    "print(\"\\n # XG Boost Model Results\\n\")\r\n",
    "print('Training Score: ',xgb.score(X_train_prep,y_train))\r\n",
    "print('Testing Score: ',accuracy_score(y_test,rf_classifier.predict(X_test_prep)))\r\n",
    "print('Time taken :' , time.time()-t0)"
   ],
   "outputs": [
    {
     "output_type": "stream",
     "name": "stdout",
     "text": [
      "[09:19:55] WARNING: C:/Users/Administrator/workspace/xgboost-win64_release_1.4.0/src/learner.cc:1095: Starting in XGBoost 1.3.0, the default evaluation metric used with the objective 'binary:logistic' was changed from 'error' to 'logloss'. Explicitly set eval_metric if you'd like to restore the old behavior.\n",
      "\n",
      " # XG Boost Model Results\n",
      "\n",
      "Training Score:  0.9598250888220825\n",
      "Testing Score:  0.9084173448317746\n",
      "Time taken : 2.2331717014312744\n"
     ]
    }
   ],
   "metadata": {}
  },
  {
   "cell_type": "markdown",
   "source": [
    "## Cross Validation & Grid Search"
   ],
   "metadata": {}
  },
  {
   "cell_type": "markdown",
   "source": [
    "### Logistic Regression"
   ],
   "metadata": {}
  },
  {
   "cell_type": "code",
   "execution_count": 45,
   "source": [
    "t0 = time.time()\r\n",
    "\r\n",
    "# Using CV \r\n",
    "logreg=LogisticRegression()\r\n",
    "logreg.fit(X_train_prep,y_train)\r\n",
    "log_scores=cross_val_score(logreg,X_train_prep,y_train,cv=5)\r\n",
    "print(\"Accuracy score using CV\",log_scores.mean())\r\n",
    "\r\n",
    "# Now use hyperparameters\r\n",
    "log_reg_params={'penalty':['l1','l2'], 'C':[0.001, 0.01, 0.1, 1, 10, 100, 1000]}\r\n",
    "grid_log_reg = GridSearchCV(LogisticRegression(), log_reg_params)\r\n",
    "grid_log_reg.fit(X_train_prep, y_train)\r\n",
    "log_reg_best=grid_log_reg.best_estimator_\r\n",
    "accuray_score=cross_val_score(log_reg_best,X_train_prep,y_train,cv=5)\r\n",
    "print(\"Accuracy score using hyperparameters and CV: \",accuray_score.mean())\r\n",
    "\r\n",
    "print('Time taken :' , time.time()-t0)"
   ],
   "outputs": [
    {
     "output_type": "stream",
     "name": "stdout",
     "text": [
      "Accuracy score using CV 0.9113903878342857\n",
      "Accuracy score using hyperparameters and CV:  0.9116029369059255\n",
      "Time taken : 16.889630556106567\n"
     ]
    }
   ],
   "metadata": {}
  },
  {
   "cell_type": "markdown",
   "source": [
    "### Support Vector Machines"
   ],
   "metadata": {}
  },
  {
   "cell_type": "code",
   "execution_count": 46,
   "source": [
    "t0 = time.time()\r\n",
    "\r\n",
    "# Using CV \r\n",
    "SVM=SVC()\r\n",
    "SVM.fit(X_train_prep,y_train)\r\n",
    "SVM_scores=cross_val_score(SVM,X_train_prep,y_train,cv=5)\r\n",
    "print(\"Accuracy score using CV\",SVM_scores.mean())\r\n",
    "\r\n",
    "print('Time taken :' , time.time()-t0)"
   ],
   "outputs": [
    {
     "output_type": "stream",
     "name": "stdout",
     "text": [
      "Accuracy score using CV 0.9115421651320587\n",
      "Time taken : 100.45474934577942\n"
     ]
    }
   ],
   "metadata": {}
  },
  {
   "cell_type": "markdown",
   "source": [
    "### Decision Tree Classifier"
   ],
   "metadata": {}
  },
  {
   "cell_type": "code",
   "execution_count": 47,
   "source": [
    "t0 = time.time()\r\n",
    "\r\n",
    "# Using CV \r\n",
    "Decision_tree=DecisionTreeClassifier()\r\n",
    "Decision_tree.fit(X_train_prep,y_train)\r\n",
    "dt_score=cross_val_score(Decision_tree,X_train_prep,y_train,cv=5)\r\n",
    "print(\"Accuray using CV: \",dt_score.mean())\r\n",
    "\r\n",
    "# Now use hyperparameters\r\n",
    "dec_tree_parms={\"criterion\":['gini','entropy'],'max_depth': np.arange(1,10,1),'min_samples_leaf':np.arange(1,10,1) }\r\n",
    "Grid_decision_tree=GridSearchCV(DecisionTreeClassifier(),dec_tree_parms)\r\n",
    "Grid_decision_tree.fit(X_train_prep,y_train)\r\n",
    "Decision_tree_best=Grid_decision_tree.best_estimator_\r\n",
    "Grid_dt_score=cross_val_score(Decision_tree_best,X_train_prep,y_train,cv=5)\r\n",
    "print(\"Accuracy score using hyperparameters and CV: \",Grid_dt_score.mean())\r\n",
    "\r\n",
    "print('Time taken :' , time.time()-t0)"
   ],
   "outputs": [
    {
     "output_type": "stream",
     "name": "stdout",
     "text": [
      "Accuray using CV:  0.8913789323871832\n",
      "Accuracy score using hyperparameters and CV:  0.9148522305873439\n",
      "Time taken : 104.74014329910278\n"
     ]
    }
   ],
   "metadata": {}
  },
  {
   "cell_type": "markdown",
   "source": [
    "### Random Forest"
   ],
   "metadata": {}
  },
  {
   "cell_type": "code",
   "execution_count": 48,
   "source": [
    "t0 = time.time()\r\n",
    "\r\n",
    "# USing CV \r\n",
    "rf_classifier=RandomForestClassifier()\r\n",
    "rf_classifier.fit(X_train_prep,y_train)\r\n",
    "rf_score=cross_val_score(rf_classifier,X_train_prep,y_train,cv=5)\r\n",
    "print(\"Accuray using CV: \",rf_score.mean())\r\n",
    "\r\n",
    "print('Time taken :' , time.time()-t0)"
   ],
   "outputs": [
    {
     "output_type": "stream",
     "name": "stdout",
     "text": [
      "Accuray using CV:  0.9139412302554548\n",
      "Time taken : 16.70098876953125\n"
     ]
    }
   ],
   "metadata": {}
  },
  {
   "cell_type": "markdown",
   "source": [
    "### K Nearest Neighbors"
   ],
   "metadata": {}
  },
  {
   "cell_type": "code",
   "execution_count": 49,
   "source": [
    "t0 = time.time()\r\n",
    "\r\n",
    "# Using CV \r\n",
    "knn_classifier=KNeighborsClassifier()\r\n",
    "knn_classifier.fit(X_train_prep,y_train)\r\n",
    "knn_score=cross_val_score(knn_classifier,X_train_prep,y_train,cv=5)\r\n",
    "print(\"Accuracy score using CV: \", knn_score.mean())\r\n",
    "\r\n",
    "# Now use hyperparameters\r\n",
    "knn_parms={'n_neighbors':np.arange(1,5,1),'algorithm': ['auto', 'ball_tree', 'kd_tree', 'brute']}\r\n",
    "knn_grid_clf=GridSearchCV(knn_classifier,knn_parms,cv=5)\r\n",
    "knn_grid_clf.fit(X_train_prep,y_train)\r\n",
    "print(knn_grid_clf.best_estimator_)\r\n",
    "knn_grid_best_score=cross_val_score(knn_grid_clf.best_estimator_,X_train_prep,y_train)\r\n",
    "print(\"Accuracy score using hyperparmeters and CV: \", knn_grid_best_score.mean())\r\n",
    "\r\n",
    "print('Time taken :' , time.time()-t0)"
   ],
   "outputs": [
    {
     "output_type": "stream",
     "name": "stdout",
     "text": [
      "Accuracy score using CV:  0.9026751889759209\n",
      "KNeighborsClassifier(n_neighbors=4)\n",
      "Accuracy score using hyperparmeters and CV:  0.9014605971668145\n",
      "Time taken : 955.9576115608215\n"
     ]
    }
   ],
   "metadata": {}
  },
  {
   "cell_type": "markdown",
   "source": [
    "### Naive Bayes"
   ],
   "metadata": {}
  },
  {
   "cell_type": "code",
   "execution_count": 50,
   "source": [
    "t0 = time.time()\r\n",
    "\r\n",
    "# Using CV \r\n",
    "naba=GaussianNB()\r\n",
    "naba.fit(X_train_prep,y_train)\r\n",
    "naba_score=cross_val_score(naba,X_train_prep,y_train,cv=5)\r\n",
    "print(\"Accuracy score using CV: \", naba_score.mean())\r\n",
    "\r\n",
    "print('Time taken :' , time.time()-t0)"
   ],
   "outputs": [
    {
     "output_type": "stream",
     "name": "stdout",
     "text": [
      "Accuracy score using CV:  0.826243157816072\n",
      "Time taken : 0.6270406246185303\n"
     ]
    }
   ],
   "metadata": {}
  },
  {
   "cell_type": "markdown",
   "source": [
    "### XG Boost"
   ],
   "metadata": {}
  },
  {
   "cell_type": "code",
   "execution_count": 51,
   "source": [
    "t0 = time.time()\r\n",
    "\r\n",
    "# Using CV \r\n",
    "xgb=XGBClassifier()\r\n",
    "xgb.fit(X_train_prep,y_train)\r\n",
    "xgb_score=cross_val_score(xgb,X_train_prep,y_train,cv=5)\r\n",
    "print(\"Accuracy score using CV: \", xgb_score.mean())\r\n",
    "\r\n",
    "print('Time taken :' , time.time()-t0)"
   ],
   "outputs": [
    {
     "output_type": "stream",
     "name": "stdout",
     "text": [
      "[09:40:20] WARNING: C:/Users/Administrator/workspace/xgboost-win64_release_1.4.0/src/learner.cc:1095: Starting in XGBoost 1.3.0, the default evaluation metric used with the objective 'binary:logistic' was changed from 'error' to 'logloss'. Explicitly set eval_metric if you'd like to restore the old behavior.\n",
      "[09:40:22] WARNING: C:/Users/Administrator/workspace/xgboost-win64_release_1.4.0/src/learner.cc:1095: Starting in XGBoost 1.3.0, the default evaluation metric used with the objective 'binary:logistic' was changed from 'error' to 'logloss'. Explicitly set eval_metric if you'd like to restore the old behavior.\n",
      "[09:40:24] WARNING: C:/Users/Administrator/workspace/xgboost-win64_release_1.4.0/src/learner.cc:1095: Starting in XGBoost 1.3.0, the default evaluation metric used with the objective 'binary:logistic' was changed from 'error' to 'logloss'. Explicitly set eval_metric if you'd like to restore the old behavior.\n",
      "[09:40:25] WARNING: C:/Users/Administrator/workspace/xgboost-win64_release_1.4.0/src/learner.cc:1095: Starting in XGBoost 1.3.0, the default evaluation metric used with the objective 'binary:logistic' was changed from 'error' to 'logloss'. Explicitly set eval_metric if you'd like to restore the old behavior.\n",
      "[09:40:27] WARNING: C:/Users/Administrator/workspace/xgboost-win64_release_1.4.0/src/learner.cc:1095: Starting in XGBoost 1.3.0, the default evaluation metric used with the objective 'binary:logistic' was changed from 'error' to 'logloss'. Explicitly set eval_metric if you'd like to restore the old behavior.\n",
      "[09:40:28] WARNING: C:/Users/Administrator/workspace/xgboost-win64_release_1.4.0/src/learner.cc:1095: Starting in XGBoost 1.3.0, the default evaluation metric used with the objective 'binary:logistic' was changed from 'error' to 'logloss'. Explicitly set eval_metric if you'd like to restore the old behavior.\n",
      "Accuracy score using CV:  0.9134250251636729\n",
      "Time taken : 8.845987796783447\n"
     ]
    }
   ],
   "metadata": {}
  },
  {
   "cell_type": "markdown",
   "source": [
    "## Model Evaluation\r\n",
    "---"
   ],
   "metadata": {}
  },
  {
   "cell_type": "code",
   "execution_count": 52,
   "source": [
    "# Taking the best score resulted from experiments\r\n",
    "\r\n",
    "scores={\"Model\":[\"Logistic Regression\",\"SVM\",\"Decision Tree\",\"Random Forest\",\"KNN\",\"Naive Bayes\",\"XGB\"],\r\n",
    "       \"Accuracy scores\":[log_scores.mean(),SVM_scores.mean(),Grid_dt_score.mean(),rf_score.mean(),knn_score.mean(),naba_score.mean(),xgb_score.mean()]}\r\n",
    "\r\n",
    "scores_df=pd.DataFrame(data=scores)\r\n",
    "scores_df"
   ],
   "outputs": [
    {
     "output_type": "execute_result",
     "data": {
      "text/html": [
       "<div>\n",
       "<style scoped>\n",
       "    .dataframe tbody tr th:only-of-type {\n",
       "        vertical-align: middle;\n",
       "    }\n",
       "\n",
       "    .dataframe tbody tr th {\n",
       "        vertical-align: top;\n",
       "    }\n",
       "\n",
       "    .dataframe thead th {\n",
       "        text-align: right;\n",
       "    }\n",
       "</style>\n",
       "<table border=\"1\" class=\"dataframe\">\n",
       "  <thead>\n",
       "    <tr style=\"text-align: right;\">\n",
       "      <th></th>\n",
       "      <th>Model</th>\n",
       "      <th>Accuracy scores</th>\n",
       "    </tr>\n",
       "  </thead>\n",
       "  <tbody>\n",
       "    <tr>\n",
       "      <th>0</th>\n",
       "      <td>Logistic Regression</td>\n",
       "      <td>0.911390</td>\n",
       "    </tr>\n",
       "    <tr>\n",
       "      <th>1</th>\n",
       "      <td>SVM</td>\n",
       "      <td>0.911542</td>\n",
       "    </tr>\n",
       "    <tr>\n",
       "      <th>2</th>\n",
       "      <td>Decision Tree</td>\n",
       "      <td>0.914852</td>\n",
       "    </tr>\n",
       "    <tr>\n",
       "      <th>3</th>\n",
       "      <td>Random Forest</td>\n",
       "      <td>0.913941</td>\n",
       "    </tr>\n",
       "    <tr>\n",
       "      <th>4</th>\n",
       "      <td>KNN</td>\n",
       "      <td>0.902675</td>\n",
       "    </tr>\n",
       "    <tr>\n",
       "      <th>5</th>\n",
       "      <td>Naive Bayes</td>\n",
       "      <td>0.826243</td>\n",
       "    </tr>\n",
       "    <tr>\n",
       "      <th>6</th>\n",
       "      <td>XGB</td>\n",
       "      <td>0.913425</td>\n",
       "    </tr>\n",
       "  </tbody>\n",
       "</table>\n",
       "</div>"
      ],
      "text/plain": [
       "                 Model  Accuracy scores\n",
       "0  Logistic Regression         0.911390\n",
       "1                  SVM         0.911542\n",
       "2        Decision Tree         0.914852\n",
       "3        Random Forest         0.913941\n",
       "4                  KNN         0.902675\n",
       "5          Naive Bayes         0.826243\n",
       "6                  XGB         0.913425"
      ]
     },
     "metadata": {},
     "execution_count": 52
    }
   ],
   "metadata": {}
  },
  {
   "cell_type": "markdown",
   "source": [
    "XGB has the highest accuracy amongst all models, followed by Decision Tree, Random Forest, SVM, Logistic Regression, KNN, and Naive Bayes"
   ],
   "metadata": {}
  },
  {
   "cell_type": "markdown",
   "source": [
    "### Logistic regression"
   ],
   "metadata": {}
  },
  {
   "cell_type": "code",
   "execution_count": 53,
   "source": [
    "t0 = time.time()\r\n",
    "models= ['Logistic Regression: ',LogisticRegression()],\r\n",
    "\r\n",
    "for name,model in models:\r\n",
    "    model = model\r\n",
    "    model.fit(X_train_prep,y_train)\r\n",
    "    print(name)\r\n",
    "    print('Logistic Regression Model Accuracy: ',accuracy_score(y_test,model.predict(X_test_prep)))\r\n",
    "    print('Logistic Regression Model Confusion Matrix: ',confusion_matrix(y_test,model.predict(X_test_prep)))\r\n",
    "    print('Logistic Regression Model Classification Report: ',classification_report(y_test,model.predict(X_test_prep)))\r\n",
    "    print('Time taken :' , time.time()-t0)"
   ],
   "outputs": [
    {
     "output_type": "stream",
     "name": "stdout",
     "text": [
      "Logistic Regression: \n",
      "Logistic Regression Model Accuracy:  0.9073241831653104\n",
      "Logistic Regression Model Confusion Matrix:  [[7079  183]\n",
      " [ 580  391]]\n",
      "Logistic Regression Model Classification Report:                precision    recall  f1-score   support\n",
      "\n",
      "          no       0.92      0.97      0.95      7262\n",
      "         yes       0.68      0.40      0.51       971\n",
      "\n",
      "    accuracy                           0.91      8233\n",
      "   macro avg       0.80      0.69      0.73      8233\n",
      "weighted avg       0.90      0.91      0.90      8233\n",
      "\n",
      "Time taken : 0.628596305847168\n"
     ]
    }
   ],
   "metadata": {}
  },
  {
   "cell_type": "markdown",
   "source": [
    "### Support Vector Machines"
   ],
   "metadata": {}
  },
  {
   "cell_type": "code",
   "execution_count": 54,
   "source": [
    "t0 = time.time()\r\n",
    "models= ['SVM: ',SVC()],\r\n",
    "\r\n",
    "for name,model in models:\r\n",
    "    model = model\r\n",
    "    model.fit(X_train_prep,y_train)\r\n",
    "    print(name)\r\n",
    "    print('SVM Model Accuracy: ',accuracy_score(y_test,model.predict(X_test_prep)))\r\n",
    "    print('SVM Model Confusion Matrix: ',confusion_matrix(y_test,model.predict(X_test_prep)))\r\n",
    "    print('SVM Model Classification Report: ',classification_report(y_test,model.predict(X_test_prep)))\r\n",
    "    print('Time taken :' , time.time()-t0)"
   ],
   "outputs": [
    {
     "output_type": "stream",
     "name": "stdout",
     "text": [
      "SVM: \n",
      "SVM Model Accuracy:  0.9064739463136159\n",
      "SVM Model Confusion Matrix:  [[7090  172]\n",
      " [ 598  373]]\n",
      "SVM Model Classification Report:                precision    recall  f1-score   support\n",
      "\n",
      "          no       0.92      0.98      0.95      7262\n",
      "         yes       0.68      0.38      0.49       971\n",
      "\n",
      "    accuracy                           0.91      8233\n",
      "   macro avg       0.80      0.68      0.72      8233\n",
      "weighted avg       0.89      0.91      0.89      8233\n",
      "\n",
      "Time taken : 33.54287505149841\n"
     ]
    }
   ],
   "metadata": {}
  },
  {
   "cell_type": "markdown",
   "source": [
    "### Decision Tree"
   ],
   "metadata": {}
  },
  {
   "cell_type": "code",
   "execution_count": 55,
   "source": [
    "t0 = time.time()\r\n",
    "models= ['Decision tree: ',DecisionTreeClassifier()],\r\n",
    "\r\n",
    "for name,model in models:\r\n",
    "    model = model\r\n",
    "    model.fit(X_train_prep,y_train)\r\n",
    "    print(name)\r\n",
    "    print('Decision tree Model Accuracy: ',accuracy_score(y_test,model.predict(X_test_prep)))\r\n",
    "    print('Decision tree Model Confusion Matrix: ',confusion_matrix(y_test,model.predict(X_test_prep)))\r\n",
    "    print('Decision tree Model Classification Report: ',classification_report(y_test,model.predict(X_test_prep)))\r\n",
    "    print('Time taken :' , time.time()-t0)"
   ],
   "outputs": [
    {
     "output_type": "stream",
     "name": "stdout",
     "text": [
      "Decision tree: \n",
      "Decision tree Model Accuracy:  0.8854609498360257\n",
      "Decision tree Model Confusion Matrix:  [[6822  440]\n",
      " [ 503  468]]\n",
      "Decision tree Model Classification Report:                precision    recall  f1-score   support\n",
      "\n",
      "          no       0.93      0.94      0.94      7262\n",
      "         yes       0.52      0.48      0.50       971\n",
      "\n",
      "    accuracy                           0.89      8233\n",
      "   macro avg       0.72      0.71      0.72      8233\n",
      "weighted avg       0.88      0.89      0.88      8233\n",
      "\n",
      "Time taken : 0.5370297431945801\n"
     ]
    }
   ],
   "metadata": {}
  },
  {
   "cell_type": "markdown",
   "source": [
    "### Random Forest"
   ],
   "metadata": {}
  },
  {
   "cell_type": "code",
   "execution_count": 56,
   "source": [
    "t0 = time.time()\r\n",
    "models= ['Random Forest: ',RandomForestClassifier()],\r\n",
    "\r\n",
    "for name,model in models:\r\n",
    "    model = model\r\n",
    "    model.fit(X_train_prep,y_train)\r\n",
    "    print(name)\r\n",
    "    print('Random Forest Model Accuracy: ',accuracy_score(y_test,model.predict(X_test_prep)))\r\n",
    "    print('Random Forest Model Confusion Matrix: ',confusion_matrix(y_test,model.predict(X_test_prep)))\r\n",
    "    print('Random Forest Model Classification Report: ',classification_report(y_test,model.predict(X_test_prep)))\r\n",
    "    print('Time taken :' , time.time()-t0)"
   ],
   "outputs": [
    {
     "output_type": "stream",
     "name": "stdout",
     "text": [
      "Random Forest: \n",
      "Random Forest Model Accuracy:  0.9087817320539293\n",
      "Random Forest Model Confusion Matrix:  [[7071  191]\n",
      " [ 560  411]]\n",
      "Random Forest Model Classification Report:                precision    recall  f1-score   support\n",
      "\n",
      "          no       0.93      0.97      0.95      7262\n",
      "         yes       0.68      0.42      0.52       971\n",
      "\n",
      "    accuracy                           0.91      8233\n",
      "   macro avg       0.80      0.70      0.74      8233\n",
      "weighted avg       0.90      0.91      0.90      8233\n",
      "\n",
      "Time taken : 3.5929975509643555\n"
     ]
    }
   ],
   "metadata": {}
  },
  {
   "cell_type": "markdown",
   "source": [
    "### K Nearest Neighbors"
   ],
   "metadata": {}
  },
  {
   "cell_type": "code",
   "execution_count": 57,
   "source": [
    "t0 = time.time()\r\n",
    "models= ['KNN: ',KNeighborsClassifier()],\r\n",
    "\r\n",
    "for name,model in models:\r\n",
    "    model = model\r\n",
    "    model.fit(X_train_prep,y_train)\r\n",
    "    print(name)\r\n",
    "    print('KNN Model Accuracy: ',accuracy_score(y_test,model.predict(X_test_prep)))\r\n",
    "    print('KNN Model Confusion Matrix: ',confusion_matrix(y_test,model.predict(X_test_prep)))\r\n",
    "    print('KNN Model Classification Report: ',classification_report(y_test,model.predict(X_test_prep)))\r\n",
    "    print('Time taken :' , time.time()-t0)"
   ],
   "outputs": [
    {
     "output_type": "stream",
     "name": "stdout",
     "text": [
      "KNN: \n",
      "KNN Model Accuracy:  0.8982145026114418\n",
      "KNN Model Confusion Matrix:  [[6997  265]\n",
      " [ 573  398]]\n",
      "KNN Model Classification Report:                precision    recall  f1-score   support\n",
      "\n",
      "          no       0.92      0.96      0.94      7262\n",
      "         yes       0.60      0.41      0.49       971\n",
      "\n",
      "    accuracy                           0.90      8233\n",
      "   macro avg       0.76      0.69      0.72      8233\n",
      "weighted avg       0.89      0.90      0.89      8233\n",
      "\n",
      "Time taken : 17.583504676818848\n"
     ]
    }
   ],
   "metadata": {}
  },
  {
   "cell_type": "markdown",
   "source": [
    "### Naive Bayes"
   ],
   "metadata": {}
  },
  {
   "cell_type": "code",
   "execution_count": 58,
   "source": [
    "t0 = time.time()\r\n",
    "models= ['Naive Bayes: ',GaussianNB()],\r\n",
    "\r\n",
    "for name,model in models:\r\n",
    "    model = model\r\n",
    "    model.fit(X_train_prep,y_train)\r\n",
    "    print(name)\r\n",
    "    print('Naive Bayes Model Accuracy: ',accuracy_score(y_test,model.predict(X_test_prep)))\r\n",
    "    print('Naive Bayes Model Confusion Matrix: ',confusion_matrix(y_test,model.predict(X_test_prep)))\r\n",
    "    print('Naive BayesModel Classification Report: ',classification_report(y_test,model.predict(X_test_prep)))\r\n",
    "    print('Time taken :' , time.time()-t0)"
   ],
   "outputs": [
    {
     "output_type": "stream",
     "name": "stdout",
     "text": [
      "Naive Bayes: \n",
      "Naive Bayes Model Accuracy:  0.8238795092918741\n",
      "Naive Bayes Model Confusion Matrix:  [[6148 1114]\n",
      " [ 336  635]]\n",
      "Naive BayesModel Classification Report:                precision    recall  f1-score   support\n",
      "\n",
      "          no       0.95      0.85      0.89      7262\n",
      "         yes       0.36      0.65      0.47       971\n",
      "\n",
      "    accuracy                           0.82      8233\n",
      "   macro avg       0.66      0.75      0.68      8233\n",
      "weighted avg       0.88      0.82      0.84      8233\n",
      "\n",
      "Time taken : 0.4139573574066162\n"
     ]
    }
   ],
   "metadata": {}
  },
  {
   "cell_type": "markdown",
   "source": [
    "### XG Boost"
   ],
   "metadata": {}
  },
  {
   "cell_type": "code",
   "execution_count": 59,
   "source": [
    "t0 = time.time()\r\n",
    "models= ['XGB: ',XGBClassifier()],\r\n",
    "\r\n",
    "for name,model in models:\r\n",
    "    model = model\r\n",
    "    model.fit(X_train_prep,y_train)\r\n",
    "    print(name)\r\n",
    "    print('XGBModel Accuracy: ',accuracy_score(y_test,model.predict(X_test_prep)))\r\n",
    "    print('XGB Model Confusion Matrix: ',confusion_matrix(y_test,model.predict(X_test_prep)))\r\n",
    "    print('XGB Model Classification Report: ',classification_report(y_test,model.predict(X_test_prep)))\r\n",
    "    print('Time taken :' , time.time()-t0)"
   ],
   "outputs": [
    {
     "output_type": "stream",
     "name": "stdout",
     "text": [
      "[09:41:26] WARNING: C:/Users/Administrator/workspace/xgboost-win64_release_1.4.0/src/learner.cc:1095: Starting in XGBoost 1.3.0, the default evaluation metric used with the objective 'binary:logistic' was changed from 'error' to 'logloss'. Explicitly set eval_metric if you'd like to restore the old behavior.\n",
      "XGB: \n",
      "XGBModel Accuracy:  0.9087817320539293\n",
      "XGB Model Confusion Matrix:  [[7008  254]\n",
      " [ 497  474]]\n",
      "XGB Model Classification Report:                precision    recall  f1-score   support\n",
      "\n",
      "          no       0.93      0.97      0.95      7262\n",
      "         yes       0.65      0.49      0.56       971\n",
      "\n",
      "    accuracy                           0.91      8233\n",
      "   macro avg       0.79      0.73      0.75      8233\n",
      "weighted avg       0.90      0.91      0.90      8233\n",
      "\n",
      "Time taken : 2.3725054264068604\n"
     ]
    }
   ],
   "metadata": {}
  },
  {
   "cell_type": "markdown",
   "source": [
    "## Model Inference\r\n",
    "---"
   ],
   "metadata": {}
  },
  {
   "cell_type": "code",
   "execution_count": 100,
   "source": [
    "#Data Sample\r\n",
    "sampledf= df.sample(n=100)\r\n",
    "sampledf.head()"
   ],
   "outputs": [
    {
     "output_type": "execute_result",
     "data": {
      "text/html": [
       "<div>\n",
       "<style scoped>\n",
       "    .dataframe tbody tr th:only-of-type {\n",
       "        vertical-align: middle;\n",
       "    }\n",
       "\n",
       "    .dataframe tbody tr th {\n",
       "        vertical-align: top;\n",
       "    }\n",
       "\n",
       "    .dataframe thead th {\n",
       "        text-align: right;\n",
       "    }\n",
       "</style>\n",
       "<table border=\"1\" class=\"dataframe\">\n",
       "  <thead>\n",
       "    <tr style=\"text-align: right;\">\n",
       "      <th></th>\n",
       "      <th>age</th>\n",
       "      <th>job</th>\n",
       "      <th>marital</th>\n",
       "      <th>education</th>\n",
       "      <th>default</th>\n",
       "      <th>housing</th>\n",
       "      <th>loan</th>\n",
       "      <th>contact</th>\n",
       "      <th>month</th>\n",
       "      <th>day_of_week</th>\n",
       "      <th>...</th>\n",
       "      <th>campaign</th>\n",
       "      <th>pdays</th>\n",
       "      <th>previous</th>\n",
       "      <th>poutcome</th>\n",
       "      <th>emp.var.rate</th>\n",
       "      <th>cons.price.idx</th>\n",
       "      <th>cons.conf.idx</th>\n",
       "      <th>euribor3m</th>\n",
       "      <th>nr.employed</th>\n",
       "      <th>y</th>\n",
       "    </tr>\n",
       "  </thead>\n",
       "  <tbody>\n",
       "    <tr>\n",
       "      <th>17321</th>\n",
       "      <td>46</td>\n",
       "      <td>admin.</td>\n",
       "      <td>married</td>\n",
       "      <td>high.school</td>\n",
       "      <td>unknown</td>\n",
       "      <td>yes</td>\n",
       "      <td>no</td>\n",
       "      <td>cellular</td>\n",
       "      <td>jul</td>\n",
       "      <td>mon</td>\n",
       "      <td>...</td>\n",
       "      <td>2</td>\n",
       "      <td>999</td>\n",
       "      <td>0</td>\n",
       "      <td>nonexistent</td>\n",
       "      <td>1.4</td>\n",
       "      <td>93.918</td>\n",
       "      <td>-42.7</td>\n",
       "      <td>4.962</td>\n",
       "      <td>5228.1</td>\n",
       "      <td>no</td>\n",
       "    </tr>\n",
       "    <tr>\n",
       "      <th>26868</th>\n",
       "      <td>29</td>\n",
       "      <td>admin.</td>\n",
       "      <td>single</td>\n",
       "      <td>university.degree</td>\n",
       "      <td>no</td>\n",
       "      <td>yes</td>\n",
       "      <td>no</td>\n",
       "      <td>cellular</td>\n",
       "      <td>nov</td>\n",
       "      <td>thu</td>\n",
       "      <td>...</td>\n",
       "      <td>2</td>\n",
       "      <td>999</td>\n",
       "      <td>1</td>\n",
       "      <td>failure</td>\n",
       "      <td>-0.1</td>\n",
       "      <td>93.200</td>\n",
       "      <td>-42.0</td>\n",
       "      <td>4.076</td>\n",
       "      <td>5195.8</td>\n",
       "      <td>no</td>\n",
       "    </tr>\n",
       "    <tr>\n",
       "      <th>28531</th>\n",
       "      <td>67</td>\n",
       "      <td>retired</td>\n",
       "      <td>married</td>\n",
       "      <td>professional.course</td>\n",
       "      <td>no</td>\n",
       "      <td>no</td>\n",
       "      <td>no</td>\n",
       "      <td>telephone</td>\n",
       "      <td>apr</td>\n",
       "      <td>wed</td>\n",
       "      <td>...</td>\n",
       "      <td>2</td>\n",
       "      <td>999</td>\n",
       "      <td>0</td>\n",
       "      <td>nonexistent</td>\n",
       "      <td>-1.8</td>\n",
       "      <td>93.075</td>\n",
       "      <td>-47.1</td>\n",
       "      <td>1.415</td>\n",
       "      <td>5099.1</td>\n",
       "      <td>no</td>\n",
       "    </tr>\n",
       "    <tr>\n",
       "      <th>37964</th>\n",
       "      <td>47</td>\n",
       "      <td>admin.</td>\n",
       "      <td>married</td>\n",
       "      <td>university.degree</td>\n",
       "      <td>no</td>\n",
       "      <td>no</td>\n",
       "      <td>no</td>\n",
       "      <td>cellular</td>\n",
       "      <td>sep</td>\n",
       "      <td>fri</td>\n",
       "      <td>...</td>\n",
       "      <td>3</td>\n",
       "      <td>999</td>\n",
       "      <td>1</td>\n",
       "      <td>failure</td>\n",
       "      <td>-3.4</td>\n",
       "      <td>92.379</td>\n",
       "      <td>-29.8</td>\n",
       "      <td>0.803</td>\n",
       "      <td>5017.5</td>\n",
       "      <td>no</td>\n",
       "    </tr>\n",
       "    <tr>\n",
       "      <th>16327</th>\n",
       "      <td>41</td>\n",
       "      <td>blue-collar</td>\n",
       "      <td>divorced</td>\n",
       "      <td>unknown</td>\n",
       "      <td>no</td>\n",
       "      <td>yes</td>\n",
       "      <td>no</td>\n",
       "      <td>telephone</td>\n",
       "      <td>jul</td>\n",
       "      <td>tue</td>\n",
       "      <td>...</td>\n",
       "      <td>11</td>\n",
       "      <td>999</td>\n",
       "      <td>0</td>\n",
       "      <td>nonexistent</td>\n",
       "      <td>1.4</td>\n",
       "      <td>93.918</td>\n",
       "      <td>-42.7</td>\n",
       "      <td>4.961</td>\n",
       "      <td>5228.1</td>\n",
       "      <td>no</td>\n",
       "    </tr>\n",
       "  </tbody>\n",
       "</table>\n",
       "<p>5 rows × 21 columns</p>\n",
       "</div>"
      ],
      "text/plain": [
       "       age          job   marital            education  default housing loan  \\\n",
       "17321   46       admin.   married          high.school  unknown     yes   no   \n",
       "26868   29       admin.    single    university.degree       no     yes   no   \n",
       "28531   67      retired   married  professional.course       no      no   no   \n",
       "37964   47       admin.   married    university.degree       no      no   no   \n",
       "16327   41  blue-collar  divorced              unknown       no     yes   no   \n",
       "\n",
       "         contact month day_of_week  ...  campaign  pdays  previous  \\\n",
       "17321   cellular   jul         mon  ...         2    999         0   \n",
       "26868   cellular   nov         thu  ...         2    999         1   \n",
       "28531  telephone   apr         wed  ...         2    999         0   \n",
       "37964   cellular   sep         fri  ...         3    999         1   \n",
       "16327  telephone   jul         tue  ...        11    999         0   \n",
       "\n",
       "          poutcome emp.var.rate  cons.price.idx  cons.conf.idx  euribor3m  \\\n",
       "17321  nonexistent          1.4          93.918          -42.7      4.962   \n",
       "26868      failure         -0.1          93.200          -42.0      4.076   \n",
       "28531  nonexistent         -1.8          93.075          -47.1      1.415   \n",
       "37964      failure         -3.4          92.379          -29.8      0.803   \n",
       "16327  nonexistent          1.4          93.918          -42.7      4.961   \n",
       "\n",
       "       nr.employed   y  \n",
       "17321       5228.1  no  \n",
       "26868       5195.8  no  \n",
       "28531       5099.1  no  \n",
       "37964       5017.5  no  \n",
       "16327       5228.1  no  \n",
       "\n",
       "[5 rows x 21 columns]"
      ]
     },
     "metadata": {},
     "execution_count": 100
    }
   ],
   "metadata": {}
  },
  {
   "cell_type": "code",
   "execution_count": 101,
   "source": [
    "#defining X\r\n",
    "y_sample = sampledf['y'].values\r\n",
    "X_sample = sampledf.drop(columns=['y'],axis=1).values"
   ],
   "outputs": [],
   "metadata": {}
  },
  {
   "cell_type": "markdown",
   "source": [
    "## Conclusion\r\n",
    "---"
   ],
   "metadata": {}
  },
  {
   "cell_type": "markdown",
   "source": [
    "the conclusion of this notebook from my work:\r\n",
    "\r\n",
    "1. There are 12 duplicate data, which will then be removed from the dataset\r\n",
    "2. From a total of 41188 observation data, there are 4639 data where clients are willing to open deposits or 11.26%\r\n",
    "3. many of client at 24 - 60 years old had deposit\r\n",
    "4. Most of the clients who are willing to open a deposit have a job as an admin\r\n",
    "5. Most of the clients who are willing to open a deposit have a university degree\r\n",
    "6. XGB (91.34%) has the highest accuracy amongst all models, followed by Decision Tree(91.48%), Random Forest(91.17%), SVM(91.15%), Logistic Regression(91.38%), KNN(90.26%), and Naive Bayes(82.62%)"
   ],
   "metadata": {}
  }
 ],
 "metadata": {
  "orig_nbformat": 4,
  "language_info": {
   "name": "python",
   "version": "3.9.5",
   "mimetype": "text/x-python",
   "codemirror_mode": {
    "name": "ipython",
    "version": 3
   },
   "pygments_lexer": "ipython3",
   "nbconvert_exporter": "python",
   "file_extension": ".py"
  },
  "kernelspec": {
   "name": "python3",
   "display_name": "Python 3.9.5 64-bit ('Hacktiv8': conda)"
  },
  "interpreter": {
   "hash": "24b4b969dcd59ad4eb1ee5f075816d0d4370cd42b4526cdd6cf199864e395ce1"
  }
 },
 "nbformat": 4,
 "nbformat_minor": 2
}